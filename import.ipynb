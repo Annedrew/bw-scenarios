{
 "cells": [
  {
   "cell_type": "code",
   "execution_count": null,
   "metadata": {},
   "outputs": [],
   "source": [
    "import bw_scenarios as bws\n",
    "\n",
    "#sdf-file directory\n",
    "file = 'file_directory'\n",
    "data= bws.import(file)\n",
    "\n"
   ]
  }
 ],
 "metadata": {
  "language_info": {
   "name": "python"
  }
 },
 "nbformat": 4,
 "nbformat_minor": 2
}
