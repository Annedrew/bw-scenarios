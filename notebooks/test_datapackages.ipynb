{
 "cells": [
  {
   "cell_type": "markdown",
   "metadata": {},
   "source": [
    "# Super-structure scenario modelling in brightway"
   ]
  },
  {
   "cell_type": "markdown",
   "metadata": {},
   "source": [
    "This notebook shows how to use the bw_scenarios module, using the example of a bike.\n",
    "\n",
    "We start by importing an SDF file (.xslx or .csv)."
   ]
  },
  {
   "cell_type": "markdown",
   "metadata": {},
   "source": [
    "## Project setup"
   ]
  },
  {
   "cell_type": "code",
   "execution_count": 1,
   "metadata": {},
   "outputs": [],
   "source": [
    "import bw2data as bd\n",
    "import bw2io as bi\n",
    "import bw2calc as bc"
   ]
  },
  {
   "cell_type": "code",
   "execution_count": 2,
   "metadata": {},
   "outputs": [],
   "source": [
    "PROJECT_NAME = \"bc24-hackathon-bike-project\"\n",
    "BIO_DB_NAME = \"ecoinvent-3.10-biosphere\""
   ]
  },
  {
   "cell_type": "code",
   "execution_count": 3,
   "metadata": {},
   "outputs": [],
   "source": [
    "bd.projects.set_current(PROJECT_NAME)"
   ]
  },
  {
   "cell_type": "code",
   "execution_count": 4,
   "metadata": {},
   "outputs": [
    {
     "data": {
      "text/plain": [
       "Databases dictionary with 2 object(s):\n",
       "\tbike_production_example\n",
       "\tecoinvent-3.10-biosphere"
      ]
     },
     "execution_count": 4,
     "metadata": {},
     "output_type": "execute_result"
    }
   ],
   "source": [
    "bd.databases"
   ]
  },
  {
   "cell_type": "code",
   "execution_count": 5,
   "metadata": {},
   "outputs": [
    {
     "name": "stdout",
     "output_type": "stream",
     "text": [
      "Extracted 1 worksheets in 0.02 seconds\n"
     ]
    }
   ],
   "source": [
    "xl_importer = bi.importers.ExcelImporter(\"bike_production_example.xlsx\")"
   ]
  },
  {
   "cell_type": "code",
   "execution_count": 6,
   "metadata": {},
   "outputs": [],
   "source": [
    "# If there are unlinked exchanges because of biosphere name change,\n",
    "# use the right biosphere name"
   ]
  },
  {
   "cell_type": "code",
   "execution_count": 7,
   "metadata": {},
   "outputs": [
    {
     "name": "stdout",
     "output_type": "stream",
     "text": [
      "Update bio db name for {'name': 'Carbon dioxide, fossil', 'amount': 26.6, 'database': 'biosphere3', 'unit': 'kilogram', 'categories': 'air', 'type': 'biosphere'}\n"
     ]
    }
   ],
   "source": [
    "for data_item in xl_importer.data:\n",
    "    for exchange in data_item[\"exchanges\"]:\n",
    "        if exchange[\"type\"] == \"biosphere\" and exchange[\"database\"] == \"biosphere3\":\n",
    "            print(f\"Update bio db name for {exchange}\")\n",
    "            exchange[\"database\"] = BIO_DB_NAME"
   ]
  },
  {
   "cell_type": "code",
   "execution_count": 8,
   "metadata": {},
   "outputs": [
    {
     "name": "stdout",
     "output_type": "stream",
     "text": [
      "Applying strategy: csv_restore_tuples\n",
      "Applying strategy: csv_restore_booleans\n",
      "Applying strategy: csv_numerize\n",
      "Applying strategy: csv_drop_unknown\n",
      "Applying strategy: csv_add_missing_exchanges_section\n",
      "Applying strategy: normalize_units\n",
      "Applying strategy: normalize_biosphere_categories\n",
      "Applying strategy: normalize_biosphere_names\n",
      "Applying strategy: strip_biosphere_exc_locations\n",
      "Applying strategy: set_code_by_activity_hash\n",
      "Applying strategy: link_iterable_by_fields\n",
      "Applying strategy: assign_only_product_as_production\n",
      "Applying strategy: link_technosphere_by_activity_hash\n",
      "Applying strategy: drop_falsey_uncertainty_fields_but_keep_zeros\n",
      "Applying strategy: convert_uncertainty_types_to_integers\n",
      "Applying strategy: convert_activity_parameters_to_list\n",
      "Applied 16 strategies in 14.34 seconds\n"
     ]
    }
   ],
   "source": [
    "xl_importer.apply_strategies()"
   ]
  },
  {
   "cell_type": "code",
   "execution_count": 9,
   "metadata": {},
   "outputs": [
    {
     "name": "stdout",
     "output_type": "stream",
     "text": [
      "3 datasets\n",
      "\t8 exchanges\n",
      "\tLinks to the following databases:\n",
      "\t\tbike_production_example (7 exchanges)\n",
      "\t\tecoinvent-3.10-biosphere (1 exchanges)\n",
      "\t0 unlinked exchanges (0 types)\n",
      "\t\t\n"
     ]
    },
    {
     "data": {
      "text/plain": [
       "(3, 8, 0, 0)"
      ]
     },
     "execution_count": 9,
     "metadata": {},
     "output_type": "execute_result"
    }
   ],
   "source": [
    "xl_importer.statistics()"
   ]
  },
  {
   "cell_type": "code",
   "execution_count": 10,
   "metadata": {},
   "outputs": [
    {
     "name": "stderr",
     "output_type": "stream",
     "text": [
      "  0%|          | 0/3 [00:00<?, ?it/s]"
     ]
    },
    {
     "name": "stderr",
     "output_type": "stream",
     "text": [
      "100%|██████████| 3/3 [00:00<00:00, 621.35it/s]"
     ]
    },
    {
     "name": "stdout",
     "output_type": "stream",
     "text": [
      "Vacuuming database \n",
      "Created database: bike_production_example\n"
     ]
    },
    {
     "name": "stderr",
     "output_type": "stream",
     "text": [
      "\n"
     ]
    }
   ],
   "source": [
    "if xl_importer.statistics(print_stats=False)[2] == 0:\n",
    "    xl_importer.write_database()"
   ]
  },
  {
   "cell_type": "code",
   "execution_count": 34,
   "metadata": {},
   "outputs": [],
   "source": [
    "from bw_scenarios.scenario import Scenario"
   ]
  },
  {
   "cell_type": "code",
   "execution_count": null,
   "metadata": {},
   "outputs": [],
   "source": [
    "scenario_lca = Scenario"
   ]
  },
  {
   "cell_type": "code",
   "execution_count": 11,
   "metadata": {},
   "outputs": [],
   "source": [
    "bike_db = bd.Database(\"bike_production_example\")"
   ]
  },
  {
   "cell_type": "code",
   "execution_count": 12,
   "metadata": {},
   "outputs": [
    {
     "name": "stdout",
     "output_type": "stream",
     "text": [
      "'natural gas production' (mega joule, NO, None) -> 6ba895871c694e9a898ade17ab6748e4\n",
      "'production of bike' (unit, DK, None) -> 1d31f61bf8884a6fa5b3783270091f9d\n",
      "'carbon fibre production' (kilogram, DE, None) -> 7bde0c388a1b401c95dccd0a3429bd0c\n"
     ]
    }
   ],
   "source": [
    "for a in bike_db:\n",
    "    print(f\"{a} -> {a['code']}\")"
   ]
  },
  {
   "cell_type": "code",
   "execution_count": 13,
   "metadata": {},
   "outputs": [
    {
     "name": "stdout",
     "output_type": "stream",
     "text": [
      "{4365: [(4363, 'technosphere', 2), (4363, 'technosphere', 0.5), (1034, 'biosphere', 26.6)], 4363: [(4363, 'technosphere', 0.01), (4364, 'technosphere', 237)]}\n"
     ]
    }
   ],
   "source": [
    "#make mock up for scenario.exchanges\n",
    "exc_dict = {}\n",
    "for act in bike_db:\n",
    "    if act.technosphere():\n",
    "        exc_dict[act.id] = []\n",
    "    \n",
    "    for exc in act.technosphere():\n",
    "        # print(\"from_id:\", exc.input.id, exc.input[\"name\"], exc.amount, exc[\"type\"])\n",
    "        # print(\"To_id:\", act.id, act[\"name\"])\n",
    "        \n",
    "        # print(\"\\n\")\n",
    "        exc_dict[act.id].append((exc.input.id, exc[\"type\"], exc.amount))\n",
    "\n",
    "    for exc in act.biosphere():\n",
    "        # print(\"from_id:\", exc.input.id, exc.input[\"name\"], exc.amount, exc[\"type\"])\n",
    "        # print(\"To_id:\", act.id, act[\"name\"])\n",
    "        \n",
    "        # print(\"\\n\")\n",
    "        exc_dict[act.id].append((exc.input.id, exc[\"type\"], exc.amount))\n",
    "\n",
    "print(exc_dict)"
   ]
  },
  {
   "cell_type": "code",
   "execution_count": 14,
   "metadata": {},
   "outputs": [],
   "source": [
    "import sys\n",
    "sys.path.append(\"../\")\n",
    "from bw_scenarios.scenario import Scenario\n",
    "\n",
    "test_scenario = Scenario(\"test\")\n",
    "test_scenario.exchanges = exc_dict\n"
   ]
  },
  {
   "cell_type": "code",
   "execution_count": 15,
   "metadata": {},
   "outputs": [
    {
     "data": {
      "text/plain": [
       "{4365: [(4363, 'technosphere', 2),\n",
       "  (4363, 'technosphere', 0.5),\n",
       "  (1034, 'biosphere', 26.6)],\n",
       " 4363: [(4363, 'technosphere', 0.01), (4364, 'technosphere', 237)]}"
      ]
     },
     "execution_count": 15,
     "metadata": {},
     "output_type": "execute_result"
    }
   ],
   "source": [
    "test_scenario.exchanges"
   ]
  },
  {
   "cell_type": "code",
   "execution_count": 16,
   "metadata": {},
   "outputs": [],
   "source": [
    "test_scenario.add_datapackage()"
   ]
  },
  {
   "cell_type": "code",
   "execution_count": 17,
   "metadata": {},
   "outputs": [
    {
     "data": {
      "text/plain": [
       "[array([(4363, 4365), (4363, 4365), (4363, 4363), (4364, 4363)],\n",
       "       dtype=[('row', '<i8'), ('col', '<i8')]),\n",
       " array([2.00e+00, 5.00e-01, 1.00e-02, 2.37e+02]),\n",
       " array([ True,  True,  True,  True]),\n",
       " array([(1034, 4365)], dtype=[('row', '<i8'), ('col', '<i8')]),\n",
       " array([26.6])]"
      ]
     },
     "execution_count": 17,
     "metadata": {},
     "output_type": "execute_result"
    }
   ],
   "source": [
    "test_scenario.dp_static.data"
   ]
  },
  {
   "cell_type": "code",
   "execution_count": 18,
   "metadata": {},
   "outputs": [],
   "source": [
    "bike = bd.get_node(name=\"production of bike\")\n",
    "method = ('EF v3.1', 'climate change', 'global warming potential (GWP100)')"
   ]
  },
  {
   "cell_type": "code",
   "execution_count": 19,
   "metadata": {},
   "outputs": [
    {
     "data": {
      "text/plain": [
       "[<bw_processing.datapackage.Datapackage at 0x2a4cd940500>,\n",
       " <bw_processing.datapackage.Datapackage at 0x2a4c63da9c0>,\n",
       " <bw_processing.datapackage.Datapackage at 0x2a4c7a30dd0>]"
      ]
     },
     "execution_count": 19,
     "metadata": {},
     "output_type": "execute_result"
    }
   ],
   "source": [
    "my_functional_unit, data_objs, _ = bd.prepare_lca_inputs(\n",
    "    {bike: 1},\n",
    "    method=method\n",
    ")\n",
    "data_objs\n"
   ]
  },
  {
   "cell_type": "code",
   "execution_count": 20,
   "metadata": {},
   "outputs": [
    {
     "data": {
      "text/plain": [
       "[array([], dtype=[('row', '<i4'), ('col', '<i4')]),\n",
       " array([], dtype=float32),\n",
       " array([], dtype=[('row', '<i4'), ('col', '<i4')]),\n",
       " array([], dtype=float32),\n",
       " array([], dtype=[('row', '<i4'), ('col', '<i4')]),\n",
       " array([], dtype=float32)]"
      ]
     },
     "execution_count": 20,
     "metadata": {},
     "output_type": "execute_result"
    }
   ],
   "source": [
    "data_objs[0].data"
   ]
  },
  {
   "cell_type": "code",
   "execution_count": 21,
   "metadata": {},
   "outputs": [
    {
     "data": {
      "text/plain": [
       "[<bw_processing.datapackage.Datapackage at 0x2a4cd940500>,\n",
       " <bw_processing.datapackage.Datapackage at 0x2a4c63da9c0>,\n",
       " <bw_processing.datapackage.Datapackage at 0x2a4c7a30dd0>,\n",
       " <bw_processing.datapackage.Datapackage at 0x2a4cd9434a0>]"
      ]
     },
     "execution_count": 21,
     "metadata": {},
     "output_type": "execute_result"
    }
   ],
   "source": [
    "data_objs.append(test_scenario.dp_static)\n",
    "data_objs\n"
   ]
  },
  {
   "cell_type": "code",
   "execution_count": 22,
   "metadata": {},
   "outputs": [
    {
     "data": {
      "text/plain": [
       "26.6"
      ]
     },
     "execution_count": 22,
     "metadata": {},
     "output_type": "execute_result"
    }
   ],
   "source": [
    "my_lca = bc.LCA({bike.id:1}, data_objs=data_objs)\n",
    "my_lca.lci()\n",
    "my_lca.lcia()\n",
    "my_lca.score"
   ]
  },
  {
   "cell_type": "code",
   "execution_count": null,
   "metadata": {},
   "outputs": [],
   "source": [
    "#TODO turn the cell above into a for-loop (quick fix instead of using MultiLCA)"
   ]
  },
  {
   "cell_type": "code",
   "execution_count": 27,
   "metadata": {},
   "outputs": [
    {
     "data": {
      "text/plain": [
       "[array([(4363, 184), (4364, 175), (4365, 117)],\n",
       "       dtype=[('row', '<i8'), ('col', '<i8')]),\n",
       " array([1., 1., 1.], dtype=float32),\n",
       " array([(1034, 4365)], dtype=[('row', '<i8'), ('col', '<i8')]),\n",
       " array([26.6], dtype=float32),\n",
       " array([(4363, 4363), (4363, 4363), (4363, 4365), (4363, 4365),\n",
       "        (4364, 4363), (4364, 4364), (4365, 4365)],\n",
       "       dtype=[('row', '<i8'), ('col', '<i8')]),\n",
       " array([1.00e-02, 1.00e+00, 5.00e-01, 2.00e+00, 2.37e+02, 1.00e+00,\n",
       "        1.00e+00], dtype=float32),\n",
       " array([ True, False,  True,  True,  True, False, False])]"
      ]
     },
     "execution_count": 27,
     "metadata": {},
     "output_type": "execute_result"
    }
   ],
   "source": [
    "data_objs[1].data"
   ]
  }
 ],
 "metadata": {
  "kernelspec": {
   "display_name": "Python 3 (ipykernel)",
   "language": "python",
   "name": "python3"
  },
  "language_info": {
   "codemirror_mode": {
    "name": "ipython",
    "version": 3
   },
   "file_extension": ".py",
   "mimetype": "text/x-python",
   "name": "python",
   "nbconvert_exporter": "python",
   "pygments_lexer": "ipython3",
   "version": "3.12.6"
  }
 },
 "nbformat": 4,
 "nbformat_minor": 4
}
