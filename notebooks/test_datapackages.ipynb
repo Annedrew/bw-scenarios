{
 "cells": [
  {
   "cell_type": "markdown",
   "metadata": {},
   "source": [
    "# Super-structure scenario modelling in brightway"
   ]
  },
  {
   "cell_type": "markdown",
   "metadata": {},
   "source": [
    "This notebook shows how to use the bw_scenarios module, using the example of a bike.\n",
    "\n",
    "We start by importing an SDF file (.xslx or .csv)."
   ]
  },
  {
   "cell_type": "markdown",
   "metadata": {},
   "source": [
    "## Project setup"
   ]
  },
  {
   "cell_type": "code",
   "execution_count": 1,
   "metadata": {},
   "outputs": [],
   "source": [
    "import bw2data as bd\n",
    "import bw2io as bi"
   ]
  },
  {
   "cell_type": "code",
   "execution_count": 2,
   "metadata": {},
   "outputs": [],
   "source": [
    "PROJECT_NAME = \"bc24-hackathon-bike-project\"\n",
    "BIO_DB_NAME = \"ecoinvent-3.10-biosphere\""
   ]
  },
  {
   "cell_type": "code",
   "execution_count": 3,
   "metadata": {},
   "outputs": [],
   "source": [
    "bd.projects.set_current(PROJECT_NAME)"
   ]
  },
  {
   "cell_type": "code",
   "execution_count": 4,
   "metadata": {},
   "outputs": [
    {
     "data": {
      "text/plain": [
       "Databases dictionary with 2 object(s):\n",
       "\tbike_production_example\n",
       "\tecoinvent-3.10-biosphere"
      ]
     },
     "execution_count": 4,
     "metadata": {},
     "output_type": "execute_result"
    }
   ],
   "source": [
    "bd.databases"
   ]
  },
  {
   "cell_type": "code",
   "execution_count": 5,
   "metadata": {},
   "outputs": [
    {
     "name": "stdout",
     "output_type": "stream",
     "text": [
      "Extracted 1 worksheets in 0.02 seconds\n"
     ]
    }
   ],
   "source": [
    "xl_importer = bi.importers.ExcelImporter(\"bike_production_example.xlsx\")"
   ]
  },
  {
   "cell_type": "code",
   "execution_count": 6,
   "metadata": {},
   "outputs": [],
   "source": [
    "# If there are unlinked exchanges because of biosphere name change,\n",
    "# use the right biosphere name"
   ]
  },
  {
   "cell_type": "code",
   "execution_count": 7,
   "metadata": {},
   "outputs": [
    {
     "name": "stdout",
     "output_type": "stream",
     "text": [
      "Update bio db name for {'name': 'Carbon dioxide, fossil', 'amount': 26.6, 'database': 'biosphere3', 'unit': 'kilogram', 'categories': 'air', 'type': 'biosphere'}\n"
     ]
    }
   ],
   "source": [
    "for data_item in xl_importer.data:\n",
    "    for exchange in data_item[\"exchanges\"]:\n",
    "        if exchange[\"type\"] == \"biosphere\" and exchange[\"database\"] == \"biosphere3\":\n",
    "            print(f\"Update bio db name for {exchange}\")\n",
    "            exchange[\"database\"] = BIO_DB_NAME"
   ]
  },
  {
   "cell_type": "code",
   "execution_count": 8,
   "metadata": {},
   "outputs": [
    {
     "name": "stdout",
     "output_type": "stream",
     "text": [
      "Applying strategy: csv_restore_tuples\n",
      "Applying strategy: csv_restore_booleans\n",
      "Applying strategy: csv_numerize\n",
      "Applying strategy: csv_drop_unknown\n",
      "Applying strategy: csv_add_missing_exchanges_section\n",
      "Applying strategy: normalize_units\n",
      "Applying strategy: normalize_biosphere_categories\n",
      "Applying strategy: normalize_biosphere_names\n",
      "Applying strategy: strip_biosphere_exc_locations\n",
      "Applying strategy: set_code_by_activity_hash\n",
      "Applying strategy: link_iterable_by_fields\n",
      "Applying strategy: assign_only_product_as_production\n",
      "Applying strategy: link_technosphere_by_activity_hash\n",
      "Applying strategy: drop_falsey_uncertainty_fields_but_keep_zeros\n",
      "Applying strategy: convert_uncertainty_types_to_integers\n",
      "Applying strategy: convert_activity_parameters_to_list\n",
      "Applied 16 strategies in 10.34 seconds\n"
     ]
    }
   ],
   "source": [
    "xl_importer.apply_strategies()"
   ]
  },
  {
   "cell_type": "code",
   "execution_count": 9,
   "metadata": {},
   "outputs": [
    {
     "name": "stdout",
     "output_type": "stream",
     "text": [
      "3 datasets\n",
      "8 exchanges\n",
      "0 unlinked exchanges\n",
      "  \n"
     ]
    },
    {
     "data": {
      "text/plain": [
       "(3, 8, 0)"
      ]
     },
     "execution_count": 9,
     "metadata": {},
     "output_type": "execute_result"
    }
   ],
   "source": [
    "xl_importer.statistics()"
   ]
  },
  {
   "cell_type": "code",
   "execution_count": 10,
   "metadata": {},
   "outputs": [
    {
     "name": "stderr",
     "output_type": "stream",
     "text": [
      "100%|██████████| 3/3 [00:00<?, ?it/s]"
     ]
    },
    {
     "name": "stdout",
     "output_type": "stream",
     "text": [
      "Vacuuming database \n"
     ]
    },
    {
     "name": "stderr",
     "output_type": "stream",
     "text": [
      "\n"
     ]
    },
    {
     "name": "stdout",
     "output_type": "stream",
     "text": [
      "Created database: bike_production_example\n"
     ]
    }
   ],
   "source": [
    "if xl_importer.statistics(print_stats=False)[2] == 0:\n",
    "    xl_importer.write_database()"
   ]
  },
  {
   "cell_type": "code",
   "execution_count": 11,
   "metadata": {},
   "outputs": [],
   "source": [
    "bike_db = bd.Database(\"bike_production_example\")"
   ]
  },
  {
   "cell_type": "code",
   "execution_count": 12,
   "metadata": {},
   "outputs": [
    {
     "name": "stdout",
     "output_type": "stream",
     "text": [
      "'natural gas production' (mega joule, NO, None) -> 6ba895871c694e9a898ade17ab6748e4\n",
      "'production of bike' (unit, DK, None) -> 1d31f61bf8884a6fa5b3783270091f9d\n",
      "'carbon fibre production' (kilogram, DE, None) -> 7bde0c388a1b401c95dccd0a3429bd0c\n"
     ]
    }
   ],
   "source": [
    "for a in bike_db:\n",
    "    print(f\"{a} -> {a['code']}\")"
   ]
  },
  {
   "cell_type": "code",
   "execution_count": 13,
   "metadata": {},
   "outputs": [
    {
     "name": "stdout",
     "output_type": "stream",
     "text": [
      "from_id: 4363 carbon fibre production 0.01 technosphere\n",
      "To_id: 4363 carbon fibre production\n",
      "\n",
      "\n",
      "from_id: 4364 natural gas production 237 technosphere\n",
      "To_id: 4363 carbon fibre production\n",
      "\n",
      "\n",
      "from_id: 4363 carbon fibre production 2 technosphere\n",
      "To_id: 4365 production of bike\n",
      "\n",
      "\n",
      "from_id: 4363 carbon fibre production 0.5 technosphere\n",
      "To_id: 4365 production of bike\n",
      "\n",
      "\n",
      "from_id: 1034 Carbon dioxide, fossil 26.6 biosphere\n",
      "To_id: 4365 production of bike\n",
      "\n",
      "\n",
      "{4363: [(4363, 'technosphere', 0.01), (4364, 'technosphere', 237)],\n",
      " 4365: [(4363, 'technosphere', 2),\n",
      "        (4363, 'technosphere', 0.5),\n",
      "        (1034, 'biosphere', 26.6)]}\n"
     ]
    }
   ],
   "source": [
    "#make mock up for scenario.exchanges\n",
    "from pprint import *\n",
    "exc_dict = {}\n",
    "for act in bike_db:\n",
    "    if act.technosphere():\n",
    "        exc_dict[act.id] = []\n",
    "    \n",
    "    for exc in act.technosphere():\n",
    "        print(\"from_id:\", exc.input.id, exc.input[\"name\"], exc.amount, exc[\"type\"])\n",
    "        print(\"To_id:\", act.id, act[\"name\"])\n",
    "        \n",
    "        print(\"\\n\")\n",
    "        exc_dict[act.id].append((exc.input.id, exc[\"type\"], exc.amount))\n",
    "\n",
    "    for exc in act.biosphere():\n",
    "        print(\"from_id:\", exc.input.id, exc.input[\"name\"], exc.amount, exc[\"type\"])\n",
    "        print(\"To_id:\", act.id, act[\"name\"])\n",
    "        \n",
    "        print(\"\\n\")\n",
    "        exc_dict[act.id].append((exc.input.id, exc[\"type\"], exc.amount))\n",
    "\n",
    "pprint(exc_dict)"
   ]
  },
  {
   "cell_type": "code",
   "execution_count": 14,
   "metadata": {},
   "outputs": [],
   "source": [
    "import sys\n",
    "sys.path.append(\"../\")\n",
    "from bw_scenarios.scenario import Scenario\n",
    "\n",
    "test_scenario = Scenario(\"test\")\n",
    "test_scenario.exchanges = exc_dict\n"
   ]
  },
  {
   "cell_type": "code",
   "execution_count": 15,
   "metadata": {},
   "outputs": [
    {
     "data": {
      "text/plain": [
       "{4363: [(4363, 'technosphere', 0.01), (4364, 'technosphere', 237)],\n",
       " 4365: [(4363, 'technosphere', 2),\n",
       "  (4363, 'technosphere', 0.5),\n",
       "  (1034, 'biosphere', 26.6)]}"
      ]
     },
     "execution_count": 15,
     "metadata": {},
     "output_type": "execute_result"
    }
   ],
   "source": [
    "test_scenario.exchanges"
   ]
  },
  {
   "cell_type": "code",
   "execution_count": 16,
   "metadata": {},
   "outputs": [
    {
     "name": "stdout",
     "output_type": "stream",
     "text": [
      "4363\n",
      "[(4363, 'technosphere', 0.01), (4364, 'technosphere', 237)]\n",
      "4365\n",
      "[(4363, 'technosphere', 2), (4363, 'technosphere', 0.5), (1034, 'biosphere', 26.6)]\n"
     ]
    }
   ],
   "source": [
    "test_scenario.add_datapackage()"
   ]
  },
  {
   "cell_type": "code",
   "execution_count": 19,
   "metadata": {},
   "outputs": [
    {
     "data": {
      "text/plain": [
       "{'_matrix_serialize_format_type': <MatrixSerializeFormat.NUMPY: 'numpy'>,\n",
       " '_finalized': False,\n",
       " '_modified': set(),\n",
       " 'fs': MemoryFS(),\n",
       " 'metadata': {'profile': 'data-package',\n",
       "  'name': 'fbac715d869340c19a429d7f98e183fb',\n",
       "  'id': 'eb60f0f6685445a9970630995a6b7c16',\n",
       "  'licenses': [{'name': 'ODC-PDDL-1.0',\n",
       "    'path': 'http://opendatacommons.org/licenses/pddl/',\n",
       "    'title': 'Open Data Commons Public Domain Dedication and License v1.0'}],\n",
       "  'resources': [{'profile': 'data-resource',\n",
       "    'format': 'npy',\n",
       "    'mediatype': 'application/octet-stream',\n",
       "    'name': '80529816be754105933f97c0c375274c.indices',\n",
       "    'matrix': 'technosphere_matrix',\n",
       "    'kind': 'indices',\n",
       "    'path': '80529816be754105933f97c0c375274c.indices.npy',\n",
       "    'group': '80529816be754105933f97c0c375274c',\n",
       "    'category': 'vector',\n",
       "    'nrows': 4},\n",
       "   {'profile': 'data-resource',\n",
       "    'format': 'npy',\n",
       "    'mediatype': 'application/octet-stream',\n",
       "    'name': '80529816be754105933f97c0c375274c.data',\n",
       "    'matrix': 'technosphere_matrix',\n",
       "    'kind': 'data',\n",
       "    'path': '80529816be754105933f97c0c375274c.data.npy',\n",
       "    'group': '80529816be754105933f97c0c375274c',\n",
       "    'category': 'vector',\n",
       "    'nrows': 4},\n",
       "   {'profile': 'data-resource',\n",
       "    'format': 'npy',\n",
       "    'mediatype': 'application/octet-stream',\n",
       "    'name': '80529816be754105933f97c0c375274c.flip',\n",
       "    'matrix': 'technosphere_matrix',\n",
       "    'kind': 'flip',\n",
       "    'path': '80529816be754105933f97c0c375274c.flip.npy',\n",
       "    'group': '80529816be754105933f97c0c375274c',\n",
       "    'category': 'vector',\n",
       "    'nrows': 4},\n",
       "   {'profile': 'data-resource',\n",
       "    'format': 'npy',\n",
       "    'mediatype': 'application/octet-stream',\n",
       "    'name': '5899806021cd470cb332cebc099de5a2.indices',\n",
       "    'matrix': 'biosphere_matrix',\n",
       "    'kind': 'indices',\n",
       "    'path': '5899806021cd470cb332cebc099de5a2.indices.npy',\n",
       "    'group': '5899806021cd470cb332cebc099de5a2',\n",
       "    'category': 'vector',\n",
       "    'nrows': 1},\n",
       "   {'profile': 'data-resource',\n",
       "    'format': 'npy',\n",
       "    'mediatype': 'application/octet-stream',\n",
       "    'name': '5899806021cd470cb332cebc099de5a2.data',\n",
       "    'matrix': 'biosphere_matrix',\n",
       "    'kind': 'data',\n",
       "    'path': '5899806021cd470cb332cebc099de5a2.data.npy',\n",
       "    'group': '5899806021cd470cb332cebc099de5a2',\n",
       "    'category': 'vector',\n",
       "    'nrows': 1}],\n",
       "  'created': '2024-09-24T11:29:44.880724Z',\n",
       "  'combinatorial': False,\n",
       "  'sequential': False,\n",
       "  'seed': None,\n",
       "  'sum_intra_duplicates': True,\n",
       "  'sum_inter_duplicates': False,\n",
       "  'matrix_serialize_format_type': 'numpy'},\n",
       " 'data': [array([(4363, 4363), (4364, 4363), (4363, 4365), (4363, 4365)],\n",
       "        dtype=[('row', '<i4'), ('col', '<i4')]),\n",
       "  array([1.00e-02, 2.37e+02, 2.00e+00, 5.00e-01]),\n",
       "  array([ True,  True,  True,  True]),\n",
       "  array([(1034, 4365)], dtype=[('row', '<i4'), ('col', '<i4')]),\n",
       "  array([26.6])]}"
      ]
     },
     "execution_count": 19,
     "metadata": {},
     "output_type": "execute_result"
    }
   ],
   "source": [
    "test_scenario.dp_static.__dict__"
   ]
  },
  {
   "cell_type": "code",
   "execution_count": 25,
   "metadata": {},
   "outputs": [
    {
     "name": "stdout",
     "output_type": "stream",
     "text": [
      "'production of bike' (unit, DK, None)\n"
     ]
    },
    {
     "ename": "OutsideTechnosphere",
     "evalue": "Can't find key 'production of bike' (unit, DK, None) in product dictionary",
     "output_type": "error",
     "traceback": [
      "\u001b[1;31m---------------------------------------------------------------------------\u001b[0m",
      "\u001b[1;31mKeyError\u001b[0m                                  Traceback (most recent call last)",
      "File \u001b[1;32mc:\\Users\\MULLERA\\AppData\\Local\\anaconda3\\envs\\bw25\\Lib\\site-packages\\bw2calc\\lca.py:193\u001b[0m, in \u001b[0;36mLCA.build_demand_array\u001b[1;34m(self, demand)\u001b[0m\n\u001b[0;32m    192\u001b[0m \u001b[38;5;28;01mtry\u001b[39;00m:\n\u001b[1;32m--> 193\u001b[0m     \u001b[38;5;28mself\u001b[39m\u001b[38;5;241m.\u001b[39mdemand_array[\u001b[38;5;28;43mself\u001b[39;49m\u001b[38;5;241;43m.\u001b[39;49m\u001b[43mdicts\u001b[49m\u001b[38;5;241;43m.\u001b[39;49m\u001b[43mproduct\u001b[49m\u001b[43m[\u001b[49m\u001b[43mkey\u001b[49m\u001b[43m]\u001b[49m] \u001b[38;5;241m=\u001b[39m demand[key]\n\u001b[0;32m    194\u001b[0m \u001b[38;5;28;01mexcept\u001b[39;00m \u001b[38;5;167;01mKeyError\u001b[39;00m:\n",
      "File \u001b[1;32mc:\\Users\\MULLERA\\AppData\\Local\\anaconda3\\envs\\bw25\\Lib\\site-packages\\bw2calc\\dictionary_manager.py:13\u001b[0m, in \u001b[0;36mresolved.<locals>.wrapper\u001b[1;34m(self, *args)\u001b[0m\n\u001b[0;32m     12\u001b[0m     \u001b[38;5;28mdelattr\u001b[39m(\u001b[38;5;28mself\u001b[39m, \u001b[38;5;124m\"\u001b[39m\u001b[38;5;124m_partial\u001b[39m\u001b[38;5;124m\"\u001b[39m)\n\u001b[1;32m---> 13\u001b[0m \u001b[38;5;28;01mreturn\u001b[39;00m \u001b[43mf\u001b[49m\u001b[43m(\u001b[49m\u001b[38;5;28;43mself\u001b[39;49m\u001b[43m,\u001b[49m\u001b[43m \u001b[49m\u001b[38;5;241;43m*\u001b[39;49m\u001b[43margs\u001b[49m\u001b[43m)\u001b[49m\n",
      "File \u001b[1;32mc:\\Users\\MULLERA\\AppData\\Local\\anaconda3\\envs\\bw25\\Lib\\site-packages\\bw2calc\\dictionary_manager.py:102\u001b[0m, in \u001b[0;36mReversibleRemappableDictionary.__getitem__\u001b[1;34m(self, key)\u001b[0m\n\u001b[0;32m    100\u001b[0m \u001b[38;5;129m@resolved\u001b[39m\n\u001b[0;32m    101\u001b[0m \u001b[38;5;28;01mdef\u001b[39;00m \u001b[38;5;21m__getitem__\u001b[39m(\u001b[38;5;28mself\u001b[39m, key):\n\u001b[1;32m--> 102\u001b[0m     \u001b[38;5;28;01mreturn\u001b[39;00m \u001b[38;5;28;43mself\u001b[39;49m\u001b[38;5;241;43m.\u001b[39;49m\u001b[43m_dict\u001b[49m\u001b[43m[\u001b[49m\u001b[43mkey\u001b[49m\u001b[43m]\u001b[49m\n",
      "\u001b[1;31mKeyError\u001b[0m: 'production of bike' (unit, DK, None)",
      "\nDuring handling of the above exception, another exception occurred:\n",
      "\u001b[1;31mOutsideTechnosphere\u001b[0m                       Traceback (most recent call last)",
      "Cell \u001b[1;32mIn[25], line 15\u001b[0m\n\u001b[0;32m      9\u001b[0m _, data_objs, remapping \u001b[38;5;241m=\u001b[39m prepare_lca_inputs(demand\u001b[38;5;241m=\u001b[39m{bike:\u001b[38;5;241m1\u001b[39m}, method\u001b[38;5;241m=\u001b[39mmethod)\n\u001b[0;32m     10\u001b[0m lca \u001b[38;5;241m=\u001b[39m bc\u001b[38;5;241m.\u001b[39mLCA(\n\u001b[0;32m     11\u001b[0m     demand\u001b[38;5;241m=\u001b[39m{bike: \u001b[38;5;241m1\u001b[39m},\n\u001b[0;32m     12\u001b[0m     method \u001b[38;5;241m=\u001b[39m method,\n\u001b[0;32m     13\u001b[0m     data_objs\u001b[38;5;241m=\u001b[39m[test_scenario\u001b[38;5;241m.\u001b[39mdp_static],\n\u001b[0;32m     14\u001b[0m )\n\u001b[1;32m---> 15\u001b[0m \u001b[43mlca\u001b[49m\u001b[38;5;241;43m.\u001b[39;49m\u001b[43mlci\u001b[49m\u001b[43m(\u001b[49m\u001b[43m)\u001b[49m\n\u001b[0;32m     16\u001b[0m lca\u001b[38;5;241m.\u001b[39mlcia()\n\u001b[0;32m     17\u001b[0m lca\u001b[38;5;241m.\u001b[39mscore\n",
      "File \u001b[1;32mc:\\Users\\MULLERA\\AppData\\Local\\anaconda3\\envs\\bw25\\Lib\\site-packages\\bw2calc\\lca.py:406\u001b[0m, in \u001b[0;36mLCA.lci\u001b[1;34m(self, demand, factorize)\u001b[0m\n\u001b[0;32m    404\u001b[0m     \u001b[38;5;28mself\u001b[39m\u001b[38;5;241m.\u001b[39mdemand \u001b[38;5;241m=\u001b[39m demand\n\u001b[0;32m    405\u001b[0m \u001b[38;5;28;01melse\u001b[39;00m:\n\u001b[1;32m--> 406\u001b[0m     \u001b[38;5;28;43mself\u001b[39;49m\u001b[38;5;241;43m.\u001b[39;49m\u001b[43mbuild_demand_array\u001b[49m\u001b[43m(\u001b[49m\u001b[43m)\u001b[49m\n\u001b[0;32m    407\u001b[0m \u001b[38;5;28;01mif\u001b[39;00m factorize \u001b[38;5;129;01mand\u001b[39;00m \u001b[38;5;129;01mnot\u001b[39;00m PYPARDISO:\n\u001b[0;32m    408\u001b[0m     \u001b[38;5;28mself\u001b[39m\u001b[38;5;241m.\u001b[39mdecompose_technosphere()\n",
      "File \u001b[1;32mc:\\Users\\MULLERA\\AppData\\Local\\anaconda3\\envs\\bw25\\Lib\\site-packages\\bw2calc\\lca.py:200\u001b[0m, in \u001b[0;36mLCA.build_demand_array\u001b[1;34m(self, demand)\u001b[0m\n\u001b[0;32m    196\u001b[0m     \u001b[38;5;28;01mraise\u001b[39;00m \u001b[38;5;167;01mValueError\u001b[39;00m(\n\u001b[0;32m    197\u001b[0m         \u001b[38;5;124mf\u001b[39m\u001b[38;5;124m\"\u001b[39m\u001b[38;5;124mLCA can only be performed on products, not activities (\u001b[39m\u001b[38;5;132;01m{\u001b[39;00mkey\u001b[38;5;132;01m}\u001b[39;00m\u001b[38;5;124m is the wrong dimension)\u001b[39m\u001b[38;5;124m\"\u001b[39m\n\u001b[0;32m    198\u001b[0m     )\n\u001b[0;32m    199\u001b[0m \u001b[38;5;28;01melse\u001b[39;00m:\n\u001b[1;32m--> 200\u001b[0m     \u001b[38;5;28;01mraise\u001b[39;00m OutsideTechnosphere(\n\u001b[0;32m    201\u001b[0m         \u001b[38;5;124mf\u001b[39m\u001b[38;5;124m\"\u001b[39m\u001b[38;5;124mCan\u001b[39m\u001b[38;5;124m'\u001b[39m\u001b[38;5;124mt find key \u001b[39m\u001b[38;5;132;01m{\u001b[39;00mkey\u001b[38;5;132;01m}\u001b[39;00m\u001b[38;5;124m in product dictionary\u001b[39m\u001b[38;5;124m\"\u001b[39m\n\u001b[0;32m    202\u001b[0m     )\n",
      "\u001b[1;31mOutsideTechnosphere\u001b[0m: Can't find key 'production of bike' (unit, DK, None) in product dictionary"
     ]
    }
   ],
   "source": [
    "import bw2calc as bc\n",
    "from bw2calc.lca import prepare_lca_inputs\n",
    "\n",
    "bike = bd.get_node(name=\"production of bike\")\n",
    "method = ('EF v3.1', 'climate change', 'global warming potential (GWP100)')\n",
    "\n",
    "print(bike)\n",
    "\n",
    "_, data_objs, remapping = prepare_lca_inputs(demand={bike:1}, method=method)\n",
    "lca = bc.LCA(\n",
    "    demand={bike: 1},\n",
    "    method = method,\n",
    "    data_objs=[test_scenario.dp_static],\n",
    ")\n",
    "lca.lci()\n",
    "lca.lcia()\n",
    "lca.score"
   ]
  },
  {
   "cell_type": "code",
   "execution_count": 17,
   "metadata": {},
   "outputs": [],
   "source": [
    "\n",
    "# self.fu = fu\n",
    "# self.method = method\n",
    "\n",
    "# # pre-construct the datapackages for LCA matrices\n",
    "# _, data_objs, remapping = prepare_lca_inputs(demand=self.fu, method=self.method)\n",
    "# self.data_objs = data_objs\n",
    "# self.remapping_dicts = remapping"
   ]
  }
 ],
 "metadata": {
  "kernelspec": {
   "display_name": "Python 3 (ipykernel)",
   "language": "python",
   "name": "python3"
  },
  "language_info": {
   "codemirror_mode": {
    "name": "ipython",
    "version": 3
   },
   "file_extension": ".py",
   "mimetype": "text/x-python",
   "name": "python",
   "nbconvert_exporter": "python",
   "pygments_lexer": "ipython3",
   "version": "3.12.0"
  }
 },
 "nbformat": 4,
 "nbformat_minor": 4
}
