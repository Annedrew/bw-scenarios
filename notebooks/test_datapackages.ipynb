{
 "cells": [
  {
   "cell_type": "markdown",
   "metadata": {},
   "source": [
    "# Super-structure scenario modelling in brightway"
   ]
  },
  {
   "cell_type": "markdown",
   "metadata": {},
   "source": [
    "This notebook shows how to use the bw_scenarios module, using the example of a bike.\n",
    "\n",
    "We start by importing an SDF file (.xslx or .csv)."
   ]
  },
  {
   "cell_type": "markdown",
   "metadata": {},
   "source": [
    "## Project setup"
   ]
  },
  {
   "cell_type": "code",
   "metadata": {
    "ExecuteTime": {
     "end_time": "2024-09-26T14:54:39.224242Z",
     "start_time": "2024-09-26T14:54:36.818888Z"
    }
   },
   "source": [
    "import bw2data as bd\n",
    "import bw2io as bi\n",
    "import bw2calc as bc"
   ],
   "outputs": [],
   "execution_count": 1
  },
  {
   "cell_type": "code",
   "metadata": {
    "ExecuteTime": {
     "end_time": "2024-09-26T14:54:39.229286Z",
     "start_time": "2024-09-26T14:54:39.224242Z"
    }
   },
   "source": [
    "PROJECT_NAME = \"bc24-hackathon-bike-project\"\n",
    "BIO_DB_NAME = \"ecoinvent-3.10-biosphere\""
   ],
   "outputs": [],
   "execution_count": 2
  },
  {
   "cell_type": "code",
   "metadata": {
    "ExecuteTime": {
     "end_time": "2024-09-26T14:54:39.264614Z",
     "start_time": "2024-09-26T14:54:39.229286Z"
    }
   },
   "source": [
    "bd.projects.set_current(PROJECT_NAME)"
   ],
   "outputs": [],
   "execution_count": 3
  },
  {
   "cell_type": "code",
   "metadata": {
    "ExecuteTime": {
     "end_time": "2024-09-26T14:54:39.273565Z",
     "start_time": "2024-09-26T14:54:39.265722Z"
    }
   },
   "source": [
    "bd.databases"
   ],
   "outputs": [
    {
     "data": {
      "text/plain": [
       "Databases dictionary with 2 object(s):\n",
       "\tbike_production_example\n",
       "\tecoinvent-3.10-biosphere"
      ]
     },
     "execution_count": 4,
     "metadata": {},
     "output_type": "execute_result"
    }
   ],
   "execution_count": 4
  },
  {
   "cell_type": "code",
   "metadata": {
    "ExecuteTime": {
     "end_time": "2024-09-26T14:54:39.288506Z",
     "start_time": "2024-09-26T14:54:39.273565Z"
    }
   },
   "source": [
    "xl_importer = bi.importers.ExcelImporter(\"bike_production_example.xlsx\")"
   ],
   "outputs": [
    {
     "name": "stdout",
     "output_type": "stream",
     "text": [
      "Extracted 1 worksheets in 0.01 seconds\n"
     ]
    }
   ],
   "execution_count": 5
  },
  {
   "cell_type": "code",
   "metadata": {
    "ExecuteTime": {
     "end_time": "2024-09-26T14:54:39.293806Z",
     "start_time": "2024-09-26T14:54:39.288506Z"
    }
   },
   "source": [
    "# If there are unlinked exchanges because of biosphere name change,\n",
    "# use the right biosphere name"
   ],
   "outputs": [],
   "execution_count": 6
  },
  {
   "cell_type": "code",
   "metadata": {
    "ExecuteTime": {
     "end_time": "2024-09-26T14:54:39.300215Z",
     "start_time": "2024-09-26T14:54:39.293806Z"
    }
   },
   "source": [
    "for data_item in xl_importer.data:\n",
    "    for exchange in data_item[\"exchanges\"]:\n",
    "        if exchange[\"type\"] == \"biosphere\" and exchange[\"database\"] == \"biosphere3\":\n",
    "            print(f\"Update bio db name for {exchange}\")\n",
    "            exchange[\"database\"] = BIO_DB_NAME"
   ],
   "outputs": [
    {
     "name": "stdout",
     "output_type": "stream",
     "text": [
      "Update bio db name for {'name': 'Carbon dioxide, fossil', 'amount': 26.6, 'database': 'biosphere3', 'unit': 'kilogram', 'categories': 'air', 'type': 'biosphere'}\n"
     ]
    }
   ],
   "execution_count": 7
  },
  {
   "cell_type": "code",
   "metadata": {
    "ExecuteTime": {
     "end_time": "2024-09-26T14:54:45.205123Z",
     "start_time": "2024-09-26T14:54:39.300215Z"
    }
   },
   "source": [
    "xl_importer.apply_strategies()"
   ],
   "outputs": [
    {
     "name": "stdout",
     "output_type": "stream",
     "text": [
      "Applying strategy: csv_restore_tuples\n",
      "Applying strategy: csv_restore_booleans\n",
      "Applying strategy: csv_numerize\n",
      "Applying strategy: csv_drop_unknown\n",
      "Applying strategy: csv_add_missing_exchanges_section\n",
      "Applying strategy: normalize_units\n",
      "Applying strategy: normalize_biosphere_categories\n",
      "Applying strategy: normalize_biosphere_names\n",
      "Applying strategy: strip_biosphere_exc_locations\n",
      "Applying strategy: set_code_by_activity_hash\n",
      "Applying strategy: link_iterable_by_fields\n",
      "Applying strategy: assign_only_product_as_production\n",
      "Applying strategy: link_technosphere_by_activity_hash\n",
      "Applying strategy: drop_falsey_uncertainty_fields_but_keep_zeros\n",
      "Applying strategy: convert_uncertainty_types_to_integers\n",
      "Applying strategy: convert_activity_parameters_to_list\n",
      "Applied 16 strategies in 5.90 seconds\n"
     ]
    }
   ],
   "execution_count": 8
  },
  {
   "cell_type": "code",
   "metadata": {
    "ExecuteTime": {
     "end_time": "2024-09-26T14:54:45.213231Z",
     "start_time": "2024-09-26T14:54:45.205123Z"
    }
   },
   "source": [
    "xl_importer.statistics()"
   ],
   "outputs": [
    {
     "name": "stdout",
     "output_type": "stream",
     "text": [
      "3 datasets\n",
      "\t8 exchanges\n",
      "\tLinks to the following databases:\n",
      "\t\tbike_production_example (7 exchanges)\n",
      "\t\tecoinvent-3.10-biosphere (1 exchanges)\n",
      "\t0 unlinked exchanges (0 types)\n",
      "\t\t\n"
     ]
    },
    {
     "data": {
      "text/plain": [
       "(3, 8, 0, 0)"
      ]
     },
     "execution_count": 9,
     "metadata": {},
     "output_type": "execute_result"
    }
   ],
   "execution_count": 9
  },
  {
   "cell_type": "code",
   "metadata": {
    "ExecuteTime": {
     "end_time": "2024-09-26T14:54:45.292929Z",
     "start_time": "2024-09-26T14:54:45.213231Z"
    }
   },
   "source": [
    "if xl_importer.statistics(print_stats=False)[2] == 0:\n",
    "    xl_importer.write_database()"
   ],
   "outputs": [
    {
     "name": "stderr",
     "output_type": "stream",
     "text": [
      "100%|██████████| 3/3 [00:00<?, ?it/s]"
     ]
    },
    {
     "name": "stdout",
     "output_type": "stream",
     "text": [
      "Vacuuming database \n",
      "Created database: bike_production_example\n"
     ]
    },
    {
     "name": "stderr",
     "output_type": "stream",
     "text": [
      "\n"
     ]
    }
   ],
   "execution_count": 10
  },
  {
   "cell_type": "code",
   "metadata": {
    "ExecuteTime": {
     "end_time": "2024-09-26T14:54:45.301593Z",
     "start_time": "2024-09-26T14:54:45.294943Z"
    }
   },
   "source": [
    "bike_db = bd.Database(\"bike_production_example\")\n",
    "for a in bike_db:\n",
    "    print(f\"{a} -> {a['code']}\")"
   ],
   "outputs": [
    {
     "name": "stdout",
     "output_type": "stream",
     "text": [
      "'natural gas production' (mega joule, NO, None) -> 6ba895871c694e9a898ade17ab6748e4\n",
      "'production of bike' (unit, DK, None) -> 1d31f61bf8884a6fa5b3783270091f9d\n",
      "'carbon fibre production' (kilogram, DE, None) -> 7bde0c388a1b401c95dccd0a3429bd0c\n"
     ]
    }
   ],
   "execution_count": 11
  },
  {
   "metadata": {
    "ExecuteTime": {
     "end_time": "2024-09-26T14:54:45.315417Z",
     "start_time": "2024-09-26T14:54:45.301593Z"
    }
   },
   "cell_type": "code",
   "source": [
    "import sys\n",
    "sys.path.append(\"../\")\n",
    "from pathlib import Path\n",
    "from functools import partial\n",
    "\n",
    "import bw2data as bd\n",
    "\n",
    "from bw_scenarios import Scenario, scenarios, SDFImporter\n",
    "from bw_scenarios.strategies import link_scenario_on_keys, separate_keys, replace_field"
   ],
   "outputs": [],
   "execution_count": 12
  },
  {
   "cell_type": "code",
   "metadata": {
    "ExecuteTime": {
     "end_time": "2024-09-26T14:54:45.354089Z",
     "start_time": "2024-09-26T14:54:45.315417Z"
    }
   },
   "source": [
    "file_path = Path(\"sdf.xlsx\")\n",
    "\n",
    "# store the scenario data in a variable\n",
    "importer = SDFImporter.from_excel(file_path)\n",
    "importer.unlinked"
   ],
   "outputs": [
    {
     "data": {
      "text/plain": [
       "        from activity name from reference product from location  \\\n",
       "0  carbon fibre production           carbon fibre            DE   \n",
       "1   natural gas production            natural gas            NO   \n",
       "2  carbon fibre production           carbon fibre            DE   \n",
       "3  carbon fibre production           carbon fibre            DE   \n",
       "4  carbon fibre production           carbon fibre            DE   \n",
       "5   Carbon dioxide, fossil                    NaN           NaN   \n",
       "\n",
       "  from categories            from database  \\\n",
       "0             NaN  bike_production_example   \n",
       "1             NaN  bike_production_example   \n",
       "2             NaN  bike_production_example   \n",
       "3             NaN  bike_production_example   \n",
       "4             NaN  bike_production_example   \n",
       "5        ('air',)               biosphere3   \n",
       "\n",
       "                                            from key         to activity name  \\\n",
       "0  ('bike_production_example', '7bde0c388a1b401c9...  carbon fibre production   \n",
       "1  ('bike_production_example', '6ba895871c694e9a8...  carbon fibre production   \n",
       "2  ('bike_production_example', '7bde0c388a1b401c9...  carbon fibre production   \n",
       "3  ('bike_production_example', '7bde0c388a1b401c9...       production of bike   \n",
       "4  ('bike_production_example', '7bde0c388a1b401c9...       production of bike   \n",
       "5  ('biosphere3', '349b29d1-3e58-4c66-98b9-9d1a07...       production of bike   \n",
       "\n",
       "  to reference product to location  to categories  ...  \\\n",
       "0         carbon fibre          DE            NaN  ...   \n",
       "1         carbon fibre          DE            NaN  ...   \n",
       "2         carbon fibre          DE            NaN  ...   \n",
       "3                 bike          DK            NaN  ...   \n",
       "4                 bike          DK            NaN  ...   \n",
       "5                 bike          DK            NaN  ...   \n",
       "\n",
       "                                              to key     flow type default  \\\n",
       "0  ('bike_production_example', '7bde0c388a1b401c9...    production    1.00   \n",
       "1  ('bike_production_example', '7bde0c388a1b401c9...  technosphere  237.00   \n",
       "2  ('bike_production_example', '7bde0c388a1b401c9...  technosphere    0.01   \n",
       "3  ('bike_production_example', '1d31f61bf8884a6fa...  technosphere    2.00   \n",
       "4  ('bike_production_example', '1d31f61bf8884a6fa...  technosphere    0.50   \n",
       "5  ('bike_production_example', '1d31f61bf8884a6fa...     biosphere   26.60   \n",
       "\n",
       "   regular case  change 1 sibling  change all sibling  change production  \\\n",
       "0          1.00              1.00                1.00               1.20   \n",
       "1        200.00            237.00              237.00             237.00   \n",
       "2          0.01              0.01                0.01               0.01   \n",
       "3          2.00              1.90                1.90               2.00   \n",
       "4          0.50              0.50                0.40               0.50   \n",
       "5         13.00             26.60               26.60              26.60   \n",
       "\n",
       "   change production and sibling  from id to id  \n",
       "0                          1.200     None  None  \n",
       "1                        237.000     None  None  \n",
       "2                          0.005     None  None  \n",
       "3                          2.000     None  None  \n",
       "4                          0.500     None  None  \n",
       "5                         26.600     None  None  \n",
       "\n",
       "[6 rows x 21 columns]"
      ],
      "text/html": [
       "<div>\n",
       "<style scoped>\n",
       "    .dataframe tbody tr th:only-of-type {\n",
       "        vertical-align: middle;\n",
       "    }\n",
       "\n",
       "    .dataframe tbody tr th {\n",
       "        vertical-align: top;\n",
       "    }\n",
       "\n",
       "    .dataframe thead th {\n",
       "        text-align: right;\n",
       "    }\n",
       "</style>\n",
       "<table border=\"1\" class=\"dataframe\">\n",
       "  <thead>\n",
       "    <tr style=\"text-align: right;\">\n",
       "      <th></th>\n",
       "      <th>from activity name</th>\n",
       "      <th>from reference product</th>\n",
       "      <th>from location</th>\n",
       "      <th>from categories</th>\n",
       "      <th>from database</th>\n",
       "      <th>from key</th>\n",
       "      <th>to activity name</th>\n",
       "      <th>to reference product</th>\n",
       "      <th>to location</th>\n",
       "      <th>to categories</th>\n",
       "      <th>...</th>\n",
       "      <th>to key</th>\n",
       "      <th>flow type</th>\n",
       "      <th>default</th>\n",
       "      <th>regular case</th>\n",
       "      <th>change 1 sibling</th>\n",
       "      <th>change all sibling</th>\n",
       "      <th>change production</th>\n",
       "      <th>change production and sibling</th>\n",
       "      <th>from id</th>\n",
       "      <th>to id</th>\n",
       "    </tr>\n",
       "  </thead>\n",
       "  <tbody>\n",
       "    <tr>\n",
       "      <th>0</th>\n",
       "      <td>carbon fibre production</td>\n",
       "      <td>carbon fibre</td>\n",
       "      <td>DE</td>\n",
       "      <td>NaN</td>\n",
       "      <td>bike_production_example</td>\n",
       "      <td>('bike_production_example', '7bde0c388a1b401c9...</td>\n",
       "      <td>carbon fibre production</td>\n",
       "      <td>carbon fibre</td>\n",
       "      <td>DE</td>\n",
       "      <td>NaN</td>\n",
       "      <td>...</td>\n",
       "      <td>('bike_production_example', '7bde0c388a1b401c9...</td>\n",
       "      <td>production</td>\n",
       "      <td>1.00</td>\n",
       "      <td>1.00</td>\n",
       "      <td>1.00</td>\n",
       "      <td>1.00</td>\n",
       "      <td>1.20</td>\n",
       "      <td>1.200</td>\n",
       "      <td>None</td>\n",
       "      <td>None</td>\n",
       "    </tr>\n",
       "    <tr>\n",
       "      <th>1</th>\n",
       "      <td>natural gas production</td>\n",
       "      <td>natural gas</td>\n",
       "      <td>NO</td>\n",
       "      <td>NaN</td>\n",
       "      <td>bike_production_example</td>\n",
       "      <td>('bike_production_example', '6ba895871c694e9a8...</td>\n",
       "      <td>carbon fibre production</td>\n",
       "      <td>carbon fibre</td>\n",
       "      <td>DE</td>\n",
       "      <td>NaN</td>\n",
       "      <td>...</td>\n",
       "      <td>('bike_production_example', '7bde0c388a1b401c9...</td>\n",
       "      <td>technosphere</td>\n",
       "      <td>237.00</td>\n",
       "      <td>200.00</td>\n",
       "      <td>237.00</td>\n",
       "      <td>237.00</td>\n",
       "      <td>237.00</td>\n",
       "      <td>237.000</td>\n",
       "      <td>None</td>\n",
       "      <td>None</td>\n",
       "    </tr>\n",
       "    <tr>\n",
       "      <th>2</th>\n",
       "      <td>carbon fibre production</td>\n",
       "      <td>carbon fibre</td>\n",
       "      <td>DE</td>\n",
       "      <td>NaN</td>\n",
       "      <td>bike_production_example</td>\n",
       "      <td>('bike_production_example', '7bde0c388a1b401c9...</td>\n",
       "      <td>carbon fibre production</td>\n",
       "      <td>carbon fibre</td>\n",
       "      <td>DE</td>\n",
       "      <td>NaN</td>\n",
       "      <td>...</td>\n",
       "      <td>('bike_production_example', '7bde0c388a1b401c9...</td>\n",
       "      <td>technosphere</td>\n",
       "      <td>0.01</td>\n",
       "      <td>0.01</td>\n",
       "      <td>0.01</td>\n",
       "      <td>0.01</td>\n",
       "      <td>0.01</td>\n",
       "      <td>0.005</td>\n",
       "      <td>None</td>\n",
       "      <td>None</td>\n",
       "    </tr>\n",
       "    <tr>\n",
       "      <th>3</th>\n",
       "      <td>carbon fibre production</td>\n",
       "      <td>carbon fibre</td>\n",
       "      <td>DE</td>\n",
       "      <td>NaN</td>\n",
       "      <td>bike_production_example</td>\n",
       "      <td>('bike_production_example', '7bde0c388a1b401c9...</td>\n",
       "      <td>production of bike</td>\n",
       "      <td>bike</td>\n",
       "      <td>DK</td>\n",
       "      <td>NaN</td>\n",
       "      <td>...</td>\n",
       "      <td>('bike_production_example', '1d31f61bf8884a6fa...</td>\n",
       "      <td>technosphere</td>\n",
       "      <td>2.00</td>\n",
       "      <td>2.00</td>\n",
       "      <td>1.90</td>\n",
       "      <td>1.90</td>\n",
       "      <td>2.00</td>\n",
       "      <td>2.000</td>\n",
       "      <td>None</td>\n",
       "      <td>None</td>\n",
       "    </tr>\n",
       "    <tr>\n",
       "      <th>4</th>\n",
       "      <td>carbon fibre production</td>\n",
       "      <td>carbon fibre</td>\n",
       "      <td>DE</td>\n",
       "      <td>NaN</td>\n",
       "      <td>bike_production_example</td>\n",
       "      <td>('bike_production_example', '7bde0c388a1b401c9...</td>\n",
       "      <td>production of bike</td>\n",
       "      <td>bike</td>\n",
       "      <td>DK</td>\n",
       "      <td>NaN</td>\n",
       "      <td>...</td>\n",
       "      <td>('bike_production_example', '1d31f61bf8884a6fa...</td>\n",
       "      <td>technosphere</td>\n",
       "      <td>0.50</td>\n",
       "      <td>0.50</td>\n",
       "      <td>0.50</td>\n",
       "      <td>0.40</td>\n",
       "      <td>0.50</td>\n",
       "      <td>0.500</td>\n",
       "      <td>None</td>\n",
       "      <td>None</td>\n",
       "    </tr>\n",
       "    <tr>\n",
       "      <th>5</th>\n",
       "      <td>Carbon dioxide, fossil</td>\n",
       "      <td>NaN</td>\n",
       "      <td>NaN</td>\n",
       "      <td>('air',)</td>\n",
       "      <td>biosphere3</td>\n",
       "      <td>('biosphere3', '349b29d1-3e58-4c66-98b9-9d1a07...</td>\n",
       "      <td>production of bike</td>\n",
       "      <td>bike</td>\n",
       "      <td>DK</td>\n",
       "      <td>NaN</td>\n",
       "      <td>...</td>\n",
       "      <td>('bike_production_example', '1d31f61bf8884a6fa...</td>\n",
       "      <td>biosphere</td>\n",
       "      <td>26.60</td>\n",
       "      <td>13.00</td>\n",
       "      <td>26.60</td>\n",
       "      <td>26.60</td>\n",
       "      <td>26.60</td>\n",
       "      <td>26.600</td>\n",
       "      <td>None</td>\n",
       "      <td>None</td>\n",
       "    </tr>\n",
       "  </tbody>\n",
       "</table>\n",
       "<p>6 rows × 21 columns</p>\n",
       "</div>"
      ]
     },
     "execution_count": 13,
     "metadata": {},
     "output_type": "execute_result"
    }
   ],
   "execution_count": 13
  },
  {
   "cell_type": "code",
   "metadata": {
    "ExecuteTime": {
     "end_time": "2024-09-26T14:54:45.375497Z",
     "start_time": "2024-09-26T14:54:45.354089Z"
    }
   },
   "source": [
    "importer.apply_strategy(separate_keys)\n",
    "importer.apply_strategy(partial(replace_field, field=\"to database\", replace={\"biosphere3\": BIO_DB_NAME}))\n",
    "importer.apply_strategy(partial(replace_field, field=\"from database\", replace={\"biosphere3\": BIO_DB_NAME}))\n",
    "importer.apply_strategy(link_scenario_on_keys)\n",
    "\n",
    "importer.unlinked"
   ],
   "outputs": [
    {
     "data": {
      "text/plain": [
       "Empty DataFrame\n",
       "Columns: [from activity name, from reference product, from location, from categories, from database, to activity name, to reference product, to location, to categories, to database, flow type, default, regular case, change 1 sibling, change all sibling, change production, change production and sibling, from id, to id, from code, to code]\n",
       "Index: []\n",
       "\n",
       "[0 rows x 21 columns]"
      ],
      "text/html": [
       "<div>\n",
       "<style scoped>\n",
       "    .dataframe tbody tr th:only-of-type {\n",
       "        vertical-align: middle;\n",
       "    }\n",
       "\n",
       "    .dataframe tbody tr th {\n",
       "        vertical-align: top;\n",
       "    }\n",
       "\n",
       "    .dataframe thead th {\n",
       "        text-align: right;\n",
       "    }\n",
       "</style>\n",
       "<table border=\"1\" class=\"dataframe\">\n",
       "  <thead>\n",
       "    <tr style=\"text-align: right;\">\n",
       "      <th></th>\n",
       "      <th>from activity name</th>\n",
       "      <th>from reference product</th>\n",
       "      <th>from location</th>\n",
       "      <th>from categories</th>\n",
       "      <th>from database</th>\n",
       "      <th>to activity name</th>\n",
       "      <th>to reference product</th>\n",
       "      <th>to location</th>\n",
       "      <th>to categories</th>\n",
       "      <th>to database</th>\n",
       "      <th>...</th>\n",
       "      <th>default</th>\n",
       "      <th>regular case</th>\n",
       "      <th>change 1 sibling</th>\n",
       "      <th>change all sibling</th>\n",
       "      <th>change production</th>\n",
       "      <th>change production and sibling</th>\n",
       "      <th>from id</th>\n",
       "      <th>to id</th>\n",
       "      <th>from code</th>\n",
       "      <th>to code</th>\n",
       "    </tr>\n",
       "  </thead>\n",
       "  <tbody>\n",
       "  </tbody>\n",
       "</table>\n",
       "<p>0 rows × 21 columns</p>\n",
       "</div>"
      ]
     },
     "execution_count": 14,
     "metadata": {},
     "output_type": "execute_result"
    }
   ],
   "execution_count": 14
  },
  {
   "cell_type": "code",
   "metadata": {
    "ExecuteTime": {
     "end_time": "2024-09-26T14:54:47.875961Z",
     "start_time": "2024-09-26T14:54:47.853089Z"
    }
   },
   "source": [
    "importer.write()\n",
    "scenarios"
   ],
   "outputs": [
    {
     "data": {
      "text/plain": [
       "Scenarios dictionary with 5 object(s):\n",
       "\tchange 1 sibling\n",
       "\tchange all sibling\n",
       "\tchange production\n",
       "\tchange production and sibling\n",
       "\tregular case"
      ]
     },
     "execution_count": 15,
     "metadata": {},
     "output_type": "execute_result"
    }
   ],
   "execution_count": 15
  },
  {
   "cell_type": "code",
   "metadata": {
    "ExecuteTime": {
     "end_time": "2024-09-26T15:01:37.841962Z",
     "start_time": "2024-09-26T15:01:37.809918Z"
    }
   },
   "source": [
    "for scenario in scenarios:\n",
    "    Scenario(scenario).add_datapackage()\n",
    "Scenario(\"change 1 sibling\").exchanges"
   ],
   "outputs": [
    {
     "data": {
      "text/plain": [
       "{4363: [(4363, 'production', 1.0),\n",
       "  (4364, 'technosphere', 237.0),\n",
       "  (4363, 'technosphere', 0.01)],\n",
       " 4365: [(4363, 'technosphere', 1.9),\n",
       "  (4363, 'technosphere', 0.5),\n",
       "  (1034, 'biosphere', 26.6)]}"
      ]
     },
     "execution_count": 24,
     "metadata": {},
     "output_type": "execute_result"
    }
   ],
   "execution_count": 24
  },
  {
   "cell_type": "code",
   "metadata": {
    "ExecuteTime": {
     "end_time": "2024-09-26T14:55:07.493260Z",
     "start_time": "2024-09-26T14:55:07.478802Z"
    }
   },
   "source": [
    "bike = bd.get_node(name=\"production of bike\")\n",
    "method = ('EF v3.1', 'climate change', 'global warming potential (GWP100)')"
   ],
   "outputs": [],
   "execution_count": 17
  },
  {
   "cell_type": "code",
   "metadata": {
    "ExecuteTime": {
     "end_time": "2024-09-26T14:57:16.075627Z",
     "start_time": "2024-09-26T14:57:16.038274Z"
    }
   },
   "source": [
    "my_functional_unit, data_objs, _ = bd.prepare_lca_inputs(\n",
    "    {bike: 1},\n",
    "    method=method\n",
    ")\n",
    "data_objs"
   ],
   "outputs": [
    {
     "data": {
      "text/plain": [
       "[<bw_processing.datapackage.Datapackage at 0x25e23f17440>,\n",
       " <bw_processing.datapackage.Datapackage at 0x25e23f17e90>,\n",
       " <bw_processing.datapackage.Datapackage at 0x25e23f2c860>]"
      ]
     },
     "execution_count": 20,
     "metadata": {},
     "output_type": "execute_result"
    }
   ],
   "execution_count": 20
  },
  {
   "cell_type": "code",
   "metadata": {
    "ExecuteTime": {
     "end_time": "2024-09-26T15:03:35.139317Z",
     "start_time": "2024-09-26T15:03:35.098525Z"
    }
   },
   "source": [
    "for scenario in scenarios:\n",
    "    my_lca = bc.LCA({bike.id:1}, data_objs=data_objs + [Scenario(scenario).dp_static])\n",
    "    my_lca.lci()\n",
    "    my_lca.lcia()\n",
    "    print(my_lca.score)"
   ],
   "outputs": [
    {
     "name": "stdout",
     "output_type": "stream",
     "text": [
      "13.0\n",
      "26.60000000000001\n",
      "26.6\n",
      "26.6\n",
      "26.6\n"
     ]
    }
   ],
   "execution_count": 26
  }
 ],
 "metadata": {
  "kernelspec": {
   "display_name": "Python 3 (ipykernel)",
   "language": "python",
   "name": "python3"
  },
  "language_info": {
   "codemirror_mode": {
    "name": "ipython",
    "version": 3
   },
   "file_extension": ".py",
   "mimetype": "text/x-python",
   "name": "python",
   "nbconvert_exporter": "python",
   "pygments_lexer": "ipython3",
   "version": "3.12.6"
  }
 },
 "nbformat": 4,
 "nbformat_minor": 4
}
