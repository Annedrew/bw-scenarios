{
 "cells": [
  {
   "cell_type": "code",
   "execution_count": 12,
   "metadata": {},
   "outputs": [],
   "source": [
    "import bw2data as bd\n",
    "import bw2io as bi\n",
    "import bw2calc as bc"
   ]
  },
  {
   "cell_type": "code",
   "execution_count": 13,
   "metadata": {},
   "outputs": [
    {
     "data": {
      "text/plain": [
       "Brightway2 projects manager with 8 objects:\n",
       "\tadvlca23\n",
       "\tadvlca25\n",
       "\tbc24-hackathon-bike-project\n",
       "\tbike_example\n",
       "\tdatapackage\n",
       "\tdefault\n",
       "\tecoinvent_import\n",
       "\tecoinvent_import_from_local\n",
       "Use `projects.report()` to get a report on all projects."
      ]
     },
     "execution_count": 13,
     "metadata": {},
     "output_type": "execute_result"
    }
   ],
   "source": [
    "bd.projects"
   ]
  },
  {
   "cell_type": "code",
   "execution_count": 14,
   "metadata": {},
   "outputs": [
    {
     "name": "stdout",
     "output_type": "stream",
     "text": [
      "Restoring project backup archive - this could take a few minutes...\n",
      "Restored project: bc24-hackathon-bike-project\n"
     ]
    },
    {
     "data": {
      "text/plain": [
       "'bc24-hackathon-bike-project'"
      ]
     },
     "execution_count": 14,
     "metadata": {},
     "output_type": "execute_result"
    }
   ],
   "source": [
    "bi.remote.install_project(\"ecoinvent-3.10-biosphere\", \"bc24-hackathon-bike-project\", overwrite_existing=True)"
   ]
  },
  {
   "cell_type": "code",
   "execution_count": 15,
   "metadata": {},
   "outputs": [
    {
     "data": {
      "text/plain": [
       "Databases dictionary with 1 object(s):\n",
       "\tecoinvent-3.10-biosphere"
      ]
     },
     "execution_count": 15,
     "metadata": {},
     "output_type": "execute_result"
    }
   ],
   "source": [
    "bd.projects.set_current('bc24-hackathon-bike-project')\n",
    "bd.databases"
   ]
  },
  {
   "cell_type": "code",
   "execution_count": 6,
   "metadata": {},
   "outputs": [
    {
     "data": {
      "text/plain": [
       "668"
      ]
     },
     "execution_count": 6,
     "metadata": {},
     "output_type": "execute_result"
    }
   ],
   "source": [
    "len(bd.methods)"
   ]
  },
  {
   "cell_type": "code",
   "execution_count": 7,
   "metadata": {},
   "outputs": [
    {
     "data": {
      "text/plain": [
       "('ReCiPe 2016 v1.03, midpoint (I)',\n",
       " 'particulate matter formation',\n",
       " 'particulate matter formation potential (PMFP)')"
      ]
     },
     "execution_count": 7,
     "metadata": {},
     "output_type": "execute_result"
    }
   ],
   "source": [
    "bd.methods.random()"
   ]
  },
  {
   "cell_type": "code",
   "execution_count": 16,
   "metadata": {},
   "outputs": [],
   "source": [
    "db = bd.Database('bike_production_example')\n",
    "db.register()"
   ]
  },
  {
   "cell_type": "code",
   "execution_count": 17,
   "metadata": {},
   "outputs": [
    {
     "data": {
      "text/plain": [
       "Databases dictionary with 2 object(s):\n",
       "\tbike_production_example\n",
       "\tecoinvent-3.10-biosphere"
      ]
     },
     "execution_count": 17,
     "metadata": {},
     "output_type": "execute_result"
    }
   ],
   "source": [
    "bd.databases"
   ]
  },
  {
   "cell_type": "code",
   "execution_count": 18,
   "metadata": {},
   "outputs": [],
   "source": [
    "# First activity: the bike\n",
    "data = {\n",
    "    'code': 'bike',\n",
    "    'name': 'bike production',\n",
    "    'location': 'DK',\n",
    "    'unit': 'bike'\n",
    "}\n",
    "bike = db.new_node(**data)\n",
    "bike.save()\n",
    "\n",
    "\n",
    "\n",
    "# First input\n",
    "data = {\n",
    "    'code': 'ng',\n",
    "    'name': 'natural gas production',\n",
    "    'location': 'NO',\n",
    "    'unit': 'MJ'\n",
    "}\n",
    "\n",
    "ng = db.new_node(**data)\n",
    "ng.save()\n",
    "\n",
    "# Second input\n",
    "data = {\n",
    "    'code': 'cf',\n",
    "    'name': 'carbon fibre production',\n",
    "    'location': 'DE',\n",
    "    'unit': 'kg'\n",
    "}\n",
    "\n",
    "cf = db.new_node(**data)\n",
    "cf.save()\n",
    "\n",
    "# We add the exchange to the bike activity, from the carbon fiber prod\n",
    "\n",
    "bike.new_edge(\n",
    "    amount=2.5, \n",
    "    type='technosphere',\n",
    "    input=cf\n",
    ").save()"
   ]
  },
  {
   "cell_type": "code",
   "execution_count": 19,
   "metadata": {},
   "outputs": [
    {
     "name": "stdout",
     "output_type": "stream",
     "text": [
      "Exchange: 2.5 kg 'carbon fibre production' (kg, DE, None) to 'bike production' (bike, DK, None)>\n"
     ]
    }
   ],
   "source": [
    "# Verify by printing the exchanges of the bike\n",
    "a_bike = db.get('bike')\n",
    "for e in a_bike.exchanges():\n",
    "    print(e)\n",
    "\n",
    "\n",
    "# Add another exchange to the carbon fiber production\n",
    "cf.new_edge(\n",
    "    amount=237.3,  # plus 58 kWh of electricity, in ecoinvent 3.8 \n",
    "    uncertainty_type=5, \n",
    "    minimum=200, \n",
    "    maximum=300, \n",
    "    type='technosphere',\n",
    "    input=ng,\n",
    ").save()"
   ]
  },
  {
   "cell_type": "code",
   "execution_count": 20,
   "metadata": {},
   "outputs": [
    {
     "name": "stdout",
     "output_type": "stream",
     "text": [
      "'bike production' (bike, DK, None)\n",
      "'carbon fibre production' (kg, DE, None)\n",
      "'natural gas production' (MJ, NO, None)\n"
     ]
    }
   ],
   "source": [
    "for act in db:\n",
    "    print(act)"
   ]
  },
  {
   "cell_type": "code",
   "execution_count": 21,
   "metadata": {},
   "outputs": [
    {
     "name": "stdout",
     "output_type": "stream",
     "text": [
      "Found flow: 'Carbon dioxide, fossil' (kilogram, None, ('air',))\n"
     ]
    }
   ],
   "source": [
    "# Let's find the co2 emission to air from the biosphere tha tis used \n",
    "# in the EF V3.0 method:\n",
    "\n",
    "# This assumes \"namespaced\" methods in the project\n",
    "random_m = bd.methods.random()\n",
    "if len(random_m) == 4:\n",
    "    # we have namespaced methods\n",
    "    ef_cc_key = ('ecoinvent-3.10', 'EF v3.1', 'climate change', 'global warming potential (GWP100)')\n",
    "else:\n",
    "    ef_cc_key = ('EF v3.1', 'climate change', 'global warming potential (GWP100)')\n",
    "ef_cc_method = bd.Method(ef_cc_key)\n",
    "ef_cc_method.metadata\n",
    "\n",
    "# Here are the actual characterization factors of the method\n",
    "cfs = ef_cc_method.load()\n",
    "\n",
    "bio_db = bd.Database('biosphere3')\n",
    "for a_cf in cfs:\n",
    "    # a_cf: under bw25, this would be a tuple with flow id and cf\n",
    "    flow = bd.get_activity(a_cf[0])\n",
    "    if 'Carbon dioxide, fossil' in flow['name'] and ('air',) == flow['categories']:\n",
    "        # print(flow)\n",
    "        # print(flow_key)\n",
    "        break\n",
    "print(f\"Found flow: {flow}\")\n"
   ]
  },
  {
   "cell_type": "code",
   "execution_count": 22,
   "metadata": {},
   "outputs": [],
   "source": [
    "cf.new_edge(\n",
    "    amount=26.6, \n",
    "    uncertainty_type=5, \n",
    "    minimum=26,\n",
    "    maximum=27.2, \n",
    "    type='biosphere',\n",
    "    input=flow,\n",
    ").save()"
   ]
  },
  {
   "cell_type": "code",
   "execution_count": 23,
   "metadata": {},
   "outputs": [
    {
     "name": "stdout",
     "output_type": "stream",
     "text": [
      "1: 'bike production' (bike, DK, None)\n",
      "  2.5: 'carbon fibre production' (kg, DE, None)\n",
      "    593: 'natural gas production' (MJ, NO, None)\n"
     ]
    },
    {
     "data": {
      "text/plain": [
       "66.50000095367433"
      ]
     },
     "execution_count": 23,
     "metadata": {},
     "output_type": "execute_result"
    }
   ],
   "source": [
    "# Now we can do a regular LCA, with an actual lcia method\n",
    "\n",
    "# printing the contribution analysis\n",
    "import bw2analyzer as bwa\n",
    "\n",
    "bwa.print_recursive_supply_chain(bike)\n",
    "\n",
    "lca = bc.LCA({bike:1}, ef_cc_key)\n",
    "\n",
    "lca.lci()\n",
    "lca.lcia()\n",
    "lca.score"
   ]
  },
  {
   "cell_type": "code",
   "execution_count": 24,
   "metadata": {},
   "outputs": [
    {
     "name": "stdout",
     "output_type": "stream",
     "text": [
      "Brightway2 Method: EF v3.1: climate change: global warming potential (GWP100) - score for: 'bike production' (bike, DK, None) => 66.50000095367433 kg CO2-Eq\n"
     ]
    }
   ],
   "source": [
    "ef_cc_m = bd.Method(ef_cc_key)\n",
    "print(f\"{ef_cc_m} - score for: {bike} => {lca.score} {ef_cc_m.metadata['unit']}\")"
   ]
  },
  {
   "cell_type": "code",
   "execution_count": 25,
   "metadata": {},
   "outputs": [
    {
     "name": "stdout",
     "output_type": "stream",
     "text": [
      "Fraction of score | Absolute score | Amount | Activity\n",
      "0001 |  66.5 |     1 | 'bike production' (bike, DK, None)\n",
      "  0001 |  66.5 |   2.5 | 'carbon fibre production' (kg, DE, None)\n"
     ]
    }
   ],
   "source": [
    "bwa.print_recursive_calculation(bike, ef_cc_key)"
   ]
  }
 ],
 "metadata": {
  "kernelspec": {
   "display_name": "bw2.5",
   "language": "python",
   "name": "python3"
  },
  "language_info": {
   "codemirror_mode": {
    "name": "ipython",
    "version": 3
   },
   "file_extension": ".py",
   "mimetype": "text/x-python",
   "name": "python",
   "nbconvert_exporter": "python",
   "pygments_lexer": "ipython3",
   "version": "3.11.9"
  }
 },
 "nbformat": 4,
 "nbformat_minor": 2
}
