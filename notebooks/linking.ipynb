{
 "cells": [
  {
   "cell_type": "code",
   "id": "initial_id",
   "metadata": {
    "collapsed": true,
    "ExecuteTime": {
     "end_time": "2024-09-24T13:37:02.002608Z",
     "start_time": "2024-09-24T13:37:01.960718Z"
    }
   },
   "source": [
    "from pathlib import Path\n",
    "from functools import partial\n",
    "\n",
    "import bw2data as bd\n",
    "\n",
    "from bw_scenarios.importer import SDFImporter\n",
    "from bw_scenarios.strategies import link_scenario_on_keys, separate_keys, replace_field\n",
    "\n",
    "PROJECT_NAME = \"bc24-hackathon-bike-project\"\n",
    "BIO_DB_NAME = \"ecoinvent-3.10-biosphere\"\n",
    "\n",
    "bd.projects.set_current(PROJECT_NAME)\n",
    "bd.databases"
   ],
   "outputs": [
    {
     "data": {
      "text/plain": [
       "Databases dictionary with 2 object(s):\n",
       "\tbike_production_example\n",
       "\tecoinvent-3.10-biosphere"
      ]
     },
     "execution_count": 8,
     "metadata": {},
     "output_type": "execute_result"
    }
   ],
   "execution_count": 8
  },
  {
   "metadata": {
    "ExecuteTime": {
     "end_time": "2024-09-24T13:37:02.065407Z",
     "start_time": "2024-09-24T13:37:02.028996Z"
    }
   },
   "cell_type": "code",
   "source": [
    "\n",
    "\n",
    "file_path = Path(\"sdf.xlsx\")\n",
    "\n",
    "# store the scenario data in a variable\n",
    "importer = SDFImporter.from_excel(file_path)"
   ],
   "id": "a8274712e4bf7e9d",
   "outputs": [],
   "execution_count": 9
  },
  {
   "metadata": {
    "ExecuteTime": {
     "end_time": "2024-09-24T13:37:02.082696Z",
     "start_time": "2024-09-24T13:37:02.065407Z"
    }
   },
   "cell_type": "code",
   "source": "bd.get_id(('bike_production_example', '7bde0c388a1b401c95dccd0a3429bd0c'))",
   "id": "bc64b01c6b9ce1b8",
   "outputs": [
    {
     "data": {
      "text/plain": [
       "4363"
      ]
     },
     "execution_count": 10,
     "metadata": {},
     "output_type": "execute_result"
    }
   ],
   "execution_count": 10
  },
  {
   "metadata": {},
   "cell_type": "markdown",
   "source": "",
   "id": "62ca82557f33131e"
  },
  {
   "metadata": {
    "ExecuteTime": {
     "end_time": "2024-09-24T13:37:02.147686Z",
     "start_time": "2024-09-24T13:37:02.095925Z"
    }
   },
   "cell_type": "code",
   "source": [
    "importer.apply_strategy(separate_keys)\n",
    "importer.apply_strategy(partial(replace_field, field=\"to database\", replace={\"biosphere3\": BIO_DB_NAME}))\n",
    "importer.apply_strategy(partial(replace_field, field=\"from database\", replace={\"biosphere3\": BIO_DB_NAME}))\n",
    "importer.apply_strategy(link_scenario_on_keys)\n",
    "\n",
    "importer.unlinked"
   ],
   "id": "a7d1c707257123",
   "outputs": [
    {
     "data": {
      "text/plain": [
       "Empty DataFrame\n",
       "Columns: [from activity name, from reference product, from location, from categories, from database, to activity name, to reference product, to location, to categories, to database, flow type, default, regular case, change 1 sibling, change all sibling, change production, change production and sibling, from id, to id, from code, to code]\n",
       "Index: []\n",
       "\n",
       "[0 rows x 21 columns]"
      ],
      "text/html": [
       "<div>\n",
       "<style scoped>\n",
       "    .dataframe tbody tr th:only-of-type {\n",
       "        vertical-align: middle;\n",
       "    }\n",
       "\n",
       "    .dataframe tbody tr th {\n",
       "        vertical-align: top;\n",
       "    }\n",
       "\n",
       "    .dataframe thead th {\n",
       "        text-align: right;\n",
       "    }\n",
       "</style>\n",
       "<table border=\"1\" class=\"dataframe\">\n",
       "  <thead>\n",
       "    <tr style=\"text-align: right;\">\n",
       "      <th></th>\n",
       "      <th>from activity name</th>\n",
       "      <th>from reference product</th>\n",
       "      <th>from location</th>\n",
       "      <th>from categories</th>\n",
       "      <th>from database</th>\n",
       "      <th>to activity name</th>\n",
       "      <th>to reference product</th>\n",
       "      <th>to location</th>\n",
       "      <th>to categories</th>\n",
       "      <th>to database</th>\n",
       "      <th>...</th>\n",
       "      <th>default</th>\n",
       "      <th>regular case</th>\n",
       "      <th>change 1 sibling</th>\n",
       "      <th>change all sibling</th>\n",
       "      <th>change production</th>\n",
       "      <th>change production and sibling</th>\n",
       "      <th>from id</th>\n",
       "      <th>to id</th>\n",
       "      <th>from code</th>\n",
       "      <th>to code</th>\n",
       "    </tr>\n",
       "  </thead>\n",
       "  <tbody>\n",
       "  </tbody>\n",
       "</table>\n",
       "<p>0 rows × 21 columns</p>\n",
       "</div>"
      ]
     },
     "execution_count": 11,
     "metadata": {},
     "output_type": "execute_result"
    }
   ],
   "execution_count": 11
  },
  {
   "metadata": {
    "ExecuteTime": {
     "end_time": "2024-09-24T13:37:02.234185Z",
     "start_time": "2024-09-24T13:37:02.147686Z"
    }
   },
   "cell_type": "code",
   "source": "importer.write()",
   "id": "7d4c87131e4e0003",
   "outputs": [],
   "execution_count": 12
  },
  {
   "metadata": {
    "ExecuteTime": {
     "end_time": "2024-09-24T13:37:02.247734Z",
     "start_time": "2024-09-24T13:37:02.234185Z"
    }
   },
   "cell_type": "code",
   "source": [
    "from bw_scenarios.meta import scenarios\n",
    "scenarios"
   ],
   "id": "6b6362ac3e809c59",
   "outputs": [
    {
     "data": {
      "text/plain": [
       "Scenarios dictionary with 5 object(s):\n",
       "\tchange 1 sibling\n",
       "\tchange all sibling\n",
       "\tchange production\n",
       "\tchange production and sibling\n",
       "\tregular case"
      ]
     },
     "execution_count": 13,
     "metadata": {},
     "output_type": "execute_result"
    }
   ],
   "execution_count": 13
  },
  {
   "metadata": {
    "ExecuteTime": {
     "end_time": "2024-09-24T13:37:02.268773Z",
     "start_time": "2024-09-24T13:37:02.250759Z"
    }
   },
   "cell_type": "code",
   "source": [
    "from bw_scenarios.scenario import Scenario\n",
    "Scenario(\"regular case\").load()\n"
   ],
   "id": "59e6dea72b133fdd",
   "outputs": [
    {
     "data": {
      "text/plain": [
       "{4363: [(4363, 'production', 1.0),\n",
       "  (4364, 'technosphere', 200.0),\n",
       "  (4363, 'technosphere', 0.01)],\n",
       " 4365: [(4363, 'technosphere', 2.0),\n",
       "  (4363, 'technosphere', 0.5),\n",
       "  (1034, 'biosphere', 13.0)]}"
      ]
     },
     "execution_count": 14,
     "metadata": {},
     "output_type": "execute_result"
    }
   ],
   "execution_count": 14
  }
 ],
 "metadata": {
  "kernelspec": {
   "display_name": "Python 3",
   "language": "python",
   "name": "python3"
  },
  "language_info": {
   "codemirror_mode": {
    "name": "ipython",
    "version": 2
   },
   "file_extension": ".py",
   "mimetype": "text/x-python",
   "name": "python",
   "nbconvert_exporter": "python",
   "pygments_lexer": "ipython2",
   "version": "2.7.6"
  }
 },
 "nbformat": 4,
 "nbformat_minor": 5
}
