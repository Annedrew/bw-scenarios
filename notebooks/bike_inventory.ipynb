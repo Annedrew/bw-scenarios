{
 "cells": [
  {
   "cell_type": "code",
   "execution_count": 1,
   "metadata": {},
   "outputs": [],
   "source": [
    "import bw2data as bd\n",
    "import bw2io as bi\n",
    "import bw2calc as bc"
   ]
  },
  {
   "cell_type": "code",
   "execution_count": 2,
   "metadata": {},
   "outputs": [
    {
     "name": "stdout",
     "output_type": "stream",
     "text": [
      "Downloading ecoinvent-3.10-biosphere.tar.gz to C:\\Users\\MULLERA\\AppData\\Local\\pylca\\Brightway3\\bw2io_cache_dir\\ecoinvent-3.10-biosphere.tar.gz\n"
     ]
    },
    {
     "name": "stderr",
     "output_type": "stream",
     "text": [
      "17465344it [00:00, 21823661.92it/s]                              \n"
     ]
    },
    {
     "name": "stdout",
     "output_type": "stream",
     "text": [
      "Restoring project backup archive - this could take a few minutes...\n"
     ]
    },
    {
     "data": {
      "text/plain": [
       "'bc24-hackathon-bike-project'"
      ]
     },
     "execution_count": 2,
     "metadata": {},
     "output_type": "execute_result"
    }
   ],
   "source": [
    "# ## Create a project with ecoinvent 3.10 biosphere data\n",
    "\n",
    "bi.remote.install_project(\"ecoinvent-3.10-biosphere\", \"bc24-hackathon-bike-project\")"
   ]
  },
  {
   "cell_type": "code",
   "execution_count": 3,
   "metadata": {},
   "outputs": [
    {
     "data": {
      "text/plain": [
       "'default'"
      ]
     },
     "execution_count": 3,
     "metadata": {},
     "output_type": "execute_result"
    }
   ],
   "source": [
    "bd.projects.current"
   ]
  },
  {
   "cell_type": "code",
   "execution_count": 4,
   "metadata": {},
   "outputs": [],
   "source": [
    "bd.projects.set_current('bc24-hackathon-bike-project')"
   ]
  },
  {
   "cell_type": "code",
   "execution_count": 5,
   "metadata": {},
   "outputs": [
    {
     "data": {
      "text/plain": [
       "Databases dictionary with 1 object(s):\n",
       "\tecoinvent-3.10-biosphere"
      ]
     },
     "execution_count": 5,
     "metadata": {},
     "output_type": "execute_result"
    }
   ],
   "source": [
    "bd.databases"
   ]
  },
  {
   "cell_type": "code",
   "execution_count": 6,
   "metadata": {},
   "outputs": [
    {
     "data": {
      "text/plain": [
       "668"
      ]
     },
     "execution_count": 6,
     "metadata": {},
     "output_type": "execute_result"
    }
   ],
   "source": [
    "len(bd.methods)"
   ]
  },
  {
   "cell_type": "code",
   "execution_count": 7,
   "metadata": {},
   "outputs": [
    {
     "data": {
      "text/plain": [
       "('EF v3.1 no LT',\n",
       " 'climate change: land use and land use change no LT',\n",
       " 'global warming potential (GWP100) no LT')"
      ]
     },
     "execution_count": 7,
     "metadata": {},
     "output_type": "execute_result"
    }
   ],
   "source": [
    "bd.methods.random()"
   ]
  },
  {
   "cell_type": "code",
   "execution_count": 8,
   "metadata": {},
   "outputs": [],
   "source": [
    "# restart the database for quick and easy re-use\n",
    "if 'bike' in bd.databases:\n",
    "    del bd.databases['bike']\n",
    "# if biosphere3 database is not in the project yet. This is automatically verified\n",
    "# it's safe to do this call in any case\n",
    "\n",
    "db = bd.Database('bike')\n",
    "db.register()"
   ]
  },
  {
   "cell_type": "code",
   "execution_count": 9,
   "metadata": {},
   "outputs": [
    {
     "data": {
      "text/plain": [
       "Databases dictionary with 2 object(s):\n",
       "\tbike\n",
       "\tecoinvent-3.10-biosphere"
      ]
     },
     "execution_count": 9,
     "metadata": {},
     "output_type": "execute_result"
    }
   ],
   "source": [
    "bd.databases"
   ]
  },
  {
   "cell_type": "code",
   "execution_count": 10,
   "metadata": {},
   "outputs": [],
   "source": [
    "# First activity: the bike\n",
    "data = {\n",
    "    'code': 'bike',\n",
    "    'name': 'bike production',\n",
    "    'location': 'DK',\n",
    "    'unit': 'bike'\n",
    "}\n",
    "bike = db.new_node(**data)\n",
    "bike.save()\n",
    "\n",
    "\n",
    "\n",
    "# First input\n",
    "data = {\n",
    "    'code': 'ng',\n",
    "    'name': 'natural gas production',\n",
    "    'location': 'NO',\n",
    "    'unit': 'MJ'\n",
    "}\n",
    "\n",
    "ng = db.new_node(**data)\n",
    "ng.save()\n",
    "\n",
    "# Second input\n",
    "data = {\n",
    "    'code': 'cf',\n",
    "    'name': 'carbon fibre production',\n",
    "    'location': 'DE',\n",
    "    'unit': 'kg'\n",
    "}\n",
    "\n",
    "cf = db.new_node(**data)\n",
    "cf.save()\n",
    "\n",
    "# We add the exchange to the bike activity, from the carbon fiber prod\n",
    "\n",
    "bike.new_edge(\n",
    "    amount=2.5, \n",
    "    type='technosphere',\n",
    "    input=cf\n",
    ").save()"
   ]
  },
  {
   "cell_type": "code",
   "execution_count": 11,
   "metadata": {},
   "outputs": [
    {
     "name": "stdout",
     "output_type": "stream",
     "text": [
      "Exchange: 2.5 kg 'carbon fibre production' (kg, DE, None) to 'bike production' (bike, DK, None)>\n"
     ]
    }
   ],
   "source": [
    "# Verify by printing the exchanges of the bike\n",
    "a_bike = db.get('bike')\n",
    "for e in a_bike.exchanges():\n",
    "    print(e)\n",
    "\n",
    "\n",
    "# Add another exchange to the carbon fiber production\n",
    "cf.new_edge(\n",
    "    amount=237.3,  # plus 58 kWh of electricity, in ecoinvent 3.8 \n",
    "    uncertainty_type=5, \n",
    "    minimum=200, \n",
    "    maximum=300, \n",
    "    type='technosphere',\n",
    "    input=ng,\n",
    ").save()"
   ]
  },
  {
   "cell_type": "code",
   "execution_count": 17,
   "metadata": {},
   "outputs": [
    {
     "name": "stdout",
     "output_type": "stream",
     "text": [
      "'carbon fibre production' (kg, DE, None)\n",
      "'natural gas production' (MJ, NO, None)\n",
      "'bike production' (bike, DK, None)\n"
     ]
    }
   ],
   "source": [
    "for act in db:\n",
    "    print(act)"
   ]
  },
  {
   "cell_type": "code",
   "execution_count": 12,
   "metadata": {},
   "outputs": [
    {
     "name": "stdout",
     "output_type": "stream",
     "text": [
      "Found flow: 'Carbon dioxide, fossil' (kilogram, None, ('air',))\n"
     ]
    }
   ],
   "source": [
    "# Let's find the co2 emission to air from the biosphere tha tis used \n",
    "# in the EF V3.0 method:\n",
    "\n",
    "# This assumes \"namespaced\" methods in the project\n",
    "random_m = bd.methods.random()\n",
    "if len(random_m) == 4:\n",
    "    # we have namespaced methods\n",
    "    ef_cc_key = ('ecoinvent-3.10', 'EF v3.1', 'climate change', 'global warming potential (GWP100)')\n",
    "else:\n",
    "    ef_cc_key = ('EF v3.1', 'climate change', 'global warming potential (GWP100)')\n",
    "ef_cc_method = bd.Method(ef_cc_key)\n",
    "ef_cc_method.metadata\n",
    "\n",
    "# Here are teh actual characterization factors of the method\n",
    "cfs = ef_cc_method.load()\n",
    "\n",
    "bio_db = bd.Database('biosphere3')\n",
    "for a_cf in cfs:\n",
    "    # a_cf: under bw25, this would be a tuple with flow id and cf\n",
    "    flow = bd.get_activity(a_cf[0])\n",
    "    if 'Carbon dioxide, fossil' in flow['name'] and ('air',) == flow['categories']:\n",
    "        # print(flow)\n",
    "        # print(flow_key)\n",
    "        break\n",
    "print(f\"Found flow: {flow}\")\n"
   ]
  },
  {
   "cell_type": "code",
   "execution_count": 13,
   "metadata": {},
   "outputs": [],
   "source": [
    "cf.new_edge(\n",
    "    amount=26.6, \n",
    "    uncertainty_type=5, \n",
    "    minimum=26,\n",
    "    maximum=27.2, \n",
    "    type='biosphere',\n",
    "    input=flow,\n",
    ").save()"
   ]
  },
  {
   "cell_type": "code",
   "execution_count": 14,
   "metadata": {},
   "outputs": [
    {
     "name": "stdout",
     "output_type": "stream",
     "text": [
      "1: 'bike production' (bike, DK, None)\n",
      "  2.5: 'carbon fibre production' (kg, DE, None)\n",
      "    593: 'natural gas production' (MJ, NO, None)\n"
     ]
    },
    {
     "data": {
      "text/plain": [
       "66.50000095367433"
      ]
     },
     "execution_count": 14,
     "metadata": {},
     "output_type": "execute_result"
    }
   ],
   "source": [
    "\n",
    "# Now we can do a regular LCA, with an actual lcia method\n",
    "\n",
    "# printing the contribution analysis\n",
    "import bw2analyzer as bwa\n",
    "\n",
    "\n",
    "bwa.print_recursive_supply_chain(bike)\n",
    "\n",
    "\n",
    "lca = bc.LCA({bike:1}, ef_cc_key)\n",
    "\n",
    "lca.lci()\n",
    "lca.lcia()\n",
    "lca.score\n",
    "\n",
    "\n"
   ]
  },
  {
   "cell_type": "code",
   "execution_count": 15,
   "metadata": {},
   "outputs": [
    {
     "name": "stdout",
     "output_type": "stream",
     "text": [
      "Brightway2 Method: EF v3.1: climate change: global warming potential (GWP100) - score for: 'bike production' (bike, DK, None) => 66.50000095367433 kg CO2-Eq\n"
     ]
    }
   ],
   "source": [
    "ef_cc_m = bd.Method(ef_cc_key)\n",
    "print(f\"{ef_cc_m} - score for: {bike} => {lca.score} {ef_cc_m.metadata['unit']}\")"
   ]
  },
  {
   "cell_type": "code",
   "execution_count": 16,
   "metadata": {},
   "outputs": [
    {
     "name": "stdout",
     "output_type": "stream",
     "text": [
      "Fraction of score | Absolute score | Amount | Activity\n",
      "0001 |  66.5 |     1 | 'bike production' (bike, DK, None)\n",
      "  0001 |  66.5 |   2.5 | 'carbon fibre production' (kg, DE, None)\n"
     ]
    }
   ],
   "source": [
    "bwa.print_recursive_calculation(bike, ef_cc_key)"
   ]
  }
 ],
 "metadata": {
  "kernelspec": {
   "display_name": "bw25",
   "language": "python",
   "name": "python3"
  },
  "language_info": {
   "codemirror_mode": {
    "name": "ipython",
    "version": 3
   },
   "file_extension": ".py",
   "mimetype": "text/x-python",
   "name": "python",
   "nbconvert_exporter": "python",
   "pygments_lexer": "ipython3",
   "version": "3.12.0"
  }
 },
 "nbformat": 4,
 "nbformat_minor": 2
}
