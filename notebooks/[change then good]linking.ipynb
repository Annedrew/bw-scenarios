{
 "cells": [
  {
   "cell_type": "code",
   "execution_count": 1,
   "id": "initial_id",
   "metadata": {
    "ExecuteTime": {
     "end_time": "2024-09-24T13:37:02.002608Z",
     "start_time": "2024-09-24T13:37:01.960718Z"
    },
    "collapsed": true
   },
   "outputs": [
    {
     "data": {
      "text/plain": [
       "Databases dictionary with 3 object(s):\n",
       "\tbike_production_example\n",
       "\tbiosphere3\n",
       "\tecoinvent-3.10-biosphere"
      ]
     },
     "execution_count": 1,
     "metadata": {},
     "output_type": "execute_result"
    }
   ],
   "source": [
    "from pathlib import Path\n",
    "from functools import partial\n",
    "\n",
    "import bw2data as bd\n",
    "\n",
    "import sys\n",
    "sys.path.append(\"../\")\n",
    "\n",
    "from bw_scenarios.importer import SDFImporter\n",
    "from bw_scenarios.strategies import link_scenario_on_keys, separate_keys, replace_field\n",
    "\n",
    "PROJECT_NAME = \"bc24-hackathon-bike-project\"\n",
    "BIO_DB_NAME = \"ecoinvent-3.10-biosphere\"\n",
    "\n",
    "bd.projects.set_current(PROJECT_NAME)\n",
    "bd.databases"
   ]
  },
  {
   "cell_type": "code",
   "execution_count": 2,
   "id": "a8274712e4bf7e9d",
   "metadata": {
    "ExecuteTime": {
     "end_time": "2024-09-24T13:37:02.065407Z",
     "start_time": "2024-09-24T13:37:02.028996Z"
    }
   },
   "outputs": [],
   "source": [
    "file_path = Path(\"sdf.xlsx\")\n",
    "\n",
    "# store the scenario data in a variable\n",
    "importer = SDFImporter.from_excel(file_path)"
   ]
  },
  {
   "cell_type": "code",
   "execution_count": 3,
   "id": "bc95f464",
   "metadata": {},
   "outputs": [
    {
     "name": "stdout",
     "output_type": "stream",
     "text": [
      "5240\n",
      "'Carbon dioxide, fossil' (kilogram, None, ('air',))\n"
     ]
    }
   ],
   "source": [
    "print(bd.Database(\"biosphere3\").get(\"349b29d1-3e58-4c66-98b9-9d1a076efd2e\").id)\n",
    "print(bd.Database(\"biosphere3\").get(\"349b29d1-3e58-4c66-98b9-9d1a076efd2e\"))"
   ]
  },
  {
   "cell_type": "code",
   "execution_count": 4,
   "id": "04e69516",
   "metadata": {},
   "outputs": [
    {
     "name": "stdout",
     "output_type": "stream",
     "text": [
      "act: 'carbon fibre production' (kg, DE, None)\n",
      "exc: Exchange: 237.3 MJ 'natural gas production' (MJ, NO, None) to 'carbon fibre production' (kg, DE, None)>\n",
      "exc['output']: ('bike_production_example', 'cf')\n",
      "exc['output'][1]: cf\n",
      "exc['output'][0]: bike_production_example\n",
      "get input: 'natural gas production' (MJ, NO, None)\n",
      "id input: 4364\n",
      "get: 'carbon fibre production' (kg, DE, None)\n",
      "id: 4365\n",
      "---\n",
      "exc: Exchange: 26.6 kilogram 'Carbon dioxide, fossil' (kilogram, None, ('air',)) to 'carbon fibre production' (kg, DE, None)>\n",
      "exc['output']: ('bike_production_example', 'cf')\n",
      "exc['output'][1]: cf\n",
      "exc['output'][0]: bike_production_example\n",
      "get input: 'Carbon dioxide, fossil' (kilogram, None, ('air',))\n",
      "id input: 1034\n",
      "get: 'carbon fibre production' (kg, DE, None)\n",
      "id: 4365\n",
      "---\n",
      "act: 'natural gas production' (MJ, NO, None)\n",
      "act: 'bike production' (bike, DK, None)\n",
      "exc: Exchange: 2.5 kg 'carbon fibre production' (kg, DE, None) to 'bike production' (bike, DK, None)>\n",
      "exc['output']: ('bike_production_example', 'bike')\n",
      "exc['output'][1]: bike\n",
      "exc['output'][0]: bike_production_example\n",
      "get input: 'carbon fibre production' (kg, DE, None)\n",
      "id input: 4365\n",
      "get: 'bike production' (bike, DK, None)\n",
      "id: 4363\n",
      "---\n"
     ]
    }
   ],
   "source": [
    "bike_db = bd.Database(\"bike_production_example\")\n",
    "for act in bike_db:\n",
    "    print(f\"act: {act}\")\n",
    "    for exc in act.exchanges():\n",
    "        print(f\"exc: {exc}\")\n",
    "        print(f\"exc['output']: {exc['output']}\")\n",
    "        print(f\"exc['output'][1]: {exc['output'][1]}\")\n",
    "        print(f\"exc['output'][0]: {exc['output'][0]}\")\n",
    "        print(f\"get input: {bd.Database(exc['input'][0]).get(exc['input'][1])}\")\n",
    "        print(f\"id input: {bd.Database(exc['input'][0]).get(exc['input'][1]).id}\")\n",
    "        print(f\"get: {bd.Database(exc['output'][0]).get(exc['output'][1])}\")\n",
    "        print(f\"id: {bd.Database(exc['output'][0]).get(exc['output'][1]).id}\")\n",
    "        print(\"---\")"
   ]
  },
  {
   "cell_type": "code",
   "execution_count": 5,
   "id": "0e519b3a",
   "metadata": {},
   "outputs": [
    {
     "data": {
      "text/plain": [
       "('bike_production_example', 'bike')"
      ]
     },
     "execution_count": 5,
     "metadata": {},
     "output_type": "execute_result"
    }
   ],
   "source": [
    "exc['output']"
   ]
  },
  {
   "cell_type": "code",
   "execution_count": 6,
   "id": "196dec42",
   "metadata": {},
   "outputs": [
    {
     "data": {
      "text/plain": [
       "('bike_production_example', 'cf')"
      ]
     },
     "execution_count": 6,
     "metadata": {},
     "output_type": "execute_result"
    }
   ],
   "source": [
    "exc['input']"
   ]
  },
  {
   "cell_type": "code",
   "execution_count": 7,
   "id": "bc64b01c6b9ce1b8",
   "metadata": {
    "ExecuteTime": {
     "end_time": "2024-09-24T13:37:02.082696Z",
     "start_time": "2024-09-24T13:37:02.065407Z"
    }
   },
   "outputs": [
    {
     "data": {
      "text/plain": [
       "4363"
      ]
     },
     "execution_count": 7,
     "metadata": {},
     "output_type": "execute_result"
    }
   ],
   "source": [
    "bd.Database(exc['output'][0]).get(exc['output'][1]).id"
   ]
  },
  {
   "cell_type": "markdown",
   "id": "62ca82557f33131e",
   "metadata": {},
   "source": []
  },
  {
   "cell_type": "code",
   "execution_count": 8,
   "id": "a7d1c707257123",
   "metadata": {
    "ExecuteTime": {
     "end_time": "2024-09-24T13:37:02.147686Z",
     "start_time": "2024-09-24T13:37:02.095925Z"
    }
   },
   "outputs": [],
   "source": [
    "# drop duplicate columns\n",
    "importer.apply_strategy(separate_keys)\n",
    "\n",
    "# replace biosphere database name\n",
    "importer.apply_strategy(partial(replace_field, field=\"to database\", replace={\"biosphere3\": BIO_DB_NAME}))\n",
    "importer.apply_strategy(partial(replace_field, field=\"from database\", replace={\"biosphere3\": BIO_DB_NAME}))\n",
    "\n",
    "# get the ids.\n",
    "importer.apply_strategy(link_scenario_on_keys)\n"
   ]
  },
  {
   "cell_type": "code",
   "execution_count": 9,
   "id": "a8f1c652",
   "metadata": {},
   "outputs": [
    {
     "data": {
      "text/html": [
       "<div>\n",
       "<style scoped>\n",
       "    .dataframe tbody tr th:only-of-type {\n",
       "        vertical-align: middle;\n",
       "    }\n",
       "\n",
       "    .dataframe tbody tr th {\n",
       "        vertical-align: top;\n",
       "    }\n",
       "\n",
       "    .dataframe thead th {\n",
       "        text-align: right;\n",
       "    }\n",
       "</style>\n",
       "<table border=\"1\" class=\"dataframe\">\n",
       "  <thead>\n",
       "    <tr style=\"text-align: right;\">\n",
       "      <th></th>\n",
       "      <th>from activity name</th>\n",
       "      <th>from reference product</th>\n",
       "      <th>from location</th>\n",
       "      <th>from categories</th>\n",
       "      <th>from database</th>\n",
       "      <th>to activity name</th>\n",
       "      <th>to reference product</th>\n",
       "      <th>to location</th>\n",
       "      <th>to categories</th>\n",
       "      <th>to database</th>\n",
       "      <th>...</th>\n",
       "      <th>default</th>\n",
       "      <th>regular case</th>\n",
       "      <th>change 1 sibling</th>\n",
       "      <th>change all sibling</th>\n",
       "      <th>change production</th>\n",
       "      <th>change production and sibling</th>\n",
       "      <th>from id</th>\n",
       "      <th>to id</th>\n",
       "      <th>from code</th>\n",
       "      <th>to code</th>\n",
       "    </tr>\n",
       "  </thead>\n",
       "  <tbody>\n",
       "  </tbody>\n",
       "</table>\n",
       "<p>0 rows × 21 columns</p>\n",
       "</div>"
      ],
      "text/plain": [
       "Empty DataFrame\n",
       "Columns: [from activity name, from reference product, from location, from categories, from database, to activity name, to reference product, to location, to categories, to database, flow type, default, regular case, change 1 sibling, change all sibling, change production, change production and sibling, from id, to id, from code, to code]\n",
       "Index: []\n",
       "\n",
       "[0 rows x 21 columns]"
      ]
     },
     "execution_count": 9,
     "metadata": {},
     "output_type": "execute_result"
    }
   ],
   "source": [
    "importer.unlinked"
   ]
  },
  {
   "cell_type": "code",
   "execution_count": 10,
   "id": "7d4c87131e4e0003",
   "metadata": {
    "ExecuteTime": {
     "end_time": "2024-09-24T13:37:02.234185Z",
     "start_time": "2024-09-24T13:37:02.147686Z"
    }
   },
   "outputs": [],
   "source": [
    "importer.write()"
   ]
  },
  {
   "cell_type": "code",
   "execution_count": 11,
   "id": "6b6362ac3e809c59",
   "metadata": {
    "ExecuteTime": {
     "end_time": "2024-09-24T13:37:02.247734Z",
     "start_time": "2024-09-24T13:37:02.234185Z"
    }
   },
   "outputs": [
    {
     "data": {
      "text/plain": [
       "Scenarios dictionary with 5 object(s):\n",
       "\tchange 1 sibling\n",
       "\tchange all sibling\n",
       "\tchange production\n",
       "\tchange production and sibling\n",
       "\tregular case"
      ]
     },
     "execution_count": 11,
     "metadata": {},
     "output_type": "execute_result"
    }
   ],
   "source": [
    "from bw_scenarios.meta import scenarios\n",
    "scenarios"
   ]
  },
  {
   "cell_type": "code",
   "execution_count": 12,
   "id": "59e6dea72b133fdd",
   "metadata": {
    "ExecuteTime": {
     "end_time": "2024-09-24T13:37:02.268773Z",
     "start_time": "2024-09-24T13:37:02.250759Z"
    }
   },
   "outputs": [
    {
     "data": {
      "text/plain": [
       "{4365: [(4365, 'production', 1.0),\n",
       "  (4364, 'technosphere', 200.0),\n",
       "  (4365, 'technosphere', 0.01),\n",
       "  (5240, 'biosphere', 13.0)],\n",
       " 4363: [(4365, 'technosphere', 2.0), (4365, 'technosphere', 0.5)]}"
      ]
     },
     "execution_count": 12,
     "metadata": {},
     "output_type": "execute_result"
    }
   ],
   "source": [
    "from bw_scenarios.scenario import Scenario\n",
    "Scenario(\"regular case\").load()\n"
   ]
  },
  {
   "cell_type": "code",
   "execution_count": 13,
   "id": "cdb75d68",
   "metadata": {},
   "outputs": [
    {
     "data": {
      "text/plain": [
       "'bc24-hackathon-bike-project'"
      ]
     },
     "execution_count": 13,
     "metadata": {},
     "output_type": "execute_result"
    }
   ],
   "source": [
    "bd.projects.current"
   ]
  },
  {
   "cell_type": "code",
   "execution_count": 15,
   "id": "0412fc85",
   "metadata": {},
   "outputs": [
    {
     "data": {
      "text/plain": [
       "PosixPath('/Users/bp45th/Library/Application Support/Brightway3/bc24-hackathon-bike-project.64c8d4d9')"
      ]
     },
     "execution_count": 15,
     "metadata": {},
     "output_type": "execute_result"
    }
   ],
   "source": [
    "bd.projects.dir"
   ]
  }
 ],
 "metadata": {
  "kernelspec": {
   "display_name": "bw2.5",
   "language": "python",
   "name": "python3"
  },
  "language_info": {
   "codemirror_mode": {
    "name": "ipython",
    "version": 3
   },
   "file_extension": ".py",
   "mimetype": "text/x-python",
   "name": "python",
   "nbconvert_exporter": "python",
   "pygments_lexer": "ipython3",
   "version": "3.11.9"
  }
 },
 "nbformat": 4,
 "nbformat_minor": 5
}
