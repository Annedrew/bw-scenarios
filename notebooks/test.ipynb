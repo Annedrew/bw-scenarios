{
 "cells": [
  {
   "cell_type": "code",
   "execution_count": 2,
   "metadata": {},
   "outputs": [
    {
     "name": "stderr",
     "output_type": "stream",
     "text": [
      "<>:4: SyntaxWarning: invalid escape sequence '\\s'\n",
      "<>:4: SyntaxWarning: invalid escape sequence '\\s'\n",
      "C:\\Users\\nrengberg\\AppData\\Local\\Temp\\ipykernel_27788\\137448011.py:4: SyntaxWarning: invalid escape sequence '\\s'\n",
      "  file = 'bw_scenarios\\sdf\\sdf.xlsx'\n"
     ]
    }
   ],
   "source": [
    "from bw_scenarios.importer import SDFImporter\n",
    "\n",
    "#sdf-file directory\n",
    "file = 'bw_scenarios\\sdf\\sdf.xlsx'\n",
    "\n",
    "scenarios = SDFImporter.from_csv(file)"
   ]
  },
  {
   "cell_type": "code",
   "execution_count": 3,
   "metadata": {},
   "outputs": [],
   "source": []
  }
 ],
 "metadata": {
  "kernelspec": {
   "display_name": "bw25",
   "language": "python",
   "name": "python3"
  },
  "language_info": {
   "codemirror_mode": {
    "name": "ipython",
    "version": 3
   },
   "file_extension": ".py",
   "mimetype": "text/x-python",
   "name": "python",
   "nbconvert_exporter": "python",
   "pygments_lexer": "ipython3",
   "version": "3.12.6"
  }
 },
 "nbformat": 4,
 "nbformat_minor": 2
}
