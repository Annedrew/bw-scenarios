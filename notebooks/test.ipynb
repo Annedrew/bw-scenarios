{
 "cells": [
  {
   "cell_type": "markdown",
   "metadata": {},
   "source": [
    "## Super-structure scenario modelling in brightway"
   ]
  },
  {
   "cell_type": "markdown",
   "metadata": {},
   "source": [
    "This notebook shows how to use the bw_scenarios module, using the example of a bike.\n",
    "\n",
    "We start by importing an SDF file (.xslx or .csv)."
   ]
  },
  {
   "cell_type": "markdown",
   "metadata": {},
   "source": [
    "## Extract the data from the SDF file"
   ]
  },
  {
   "cell_type": "code",
   "execution_count": 5,
   "metadata": {},
   "outputs": [],
   "source": [
    "from bw_scenarios.importer import SDFImporter\n",
    "\n",
    "from pathlib import Path\n",
    "\n",
    "file_path = Path(\"sdf.xlsx\")\n",
    "\n",
    "#store the scenario data in a variable\n",
    "scenarios = SDFImporter.from_excel(file_path)"
   ]
  },
  {
   "cell_type": "markdown",
   "metadata": {},
   "source": [
    "In the .sdf-file it is defined how the activities are changing within the distinct scenarios.\n",
    "\n",
    "The file used for this example is specified above.\n",
    "\n",
    "In the graphic below, the direction of change per scenario and exchange is visualized."
   ]
  },
  {
   "cell_type": "markdown",
   "metadata": {},
   "source": [
    "![scenarios_visualized.png](scenarios_visualized.png)"
   ]
  }
 ],
 "metadata": {
  "kernelspec": {
   "display_name": "Python 3 (ipykernel)",
   "language": "python",
   "name": "python3"
  },
  "language_info": {
   "codemirror_mode": {
    "name": "ipython",
    "version": 3
   },
   "file_extension": ".py",
   "mimetype": "text/x-python",
   "name": "python",
   "nbconvert_exporter": "python",
   "pygments_lexer": "ipython3",
   "version": "3.12.6"
  }
 },
 "nbformat": 4,
 "nbformat_minor": 4
}
