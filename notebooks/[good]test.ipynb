{
 "cells": [
  {
   "cell_type": "markdown",
   "metadata": {},
   "source": [
    "# Super-structure scenario modelling in brightway"
   ]
  },
  {
   "cell_type": "markdown",
   "metadata": {},
   "source": [
    "This notebook shows how to use the bw_scenarios module, using the example of a bike.\n",
    "\n",
    "We start by importing an SDF file (.xslx or .csv)."
   ]
  },
  {
   "cell_type": "markdown",
   "metadata": {},
   "source": [
    "## Project setup"
   ]
  },
  {
   "cell_type": "code",
   "execution_count": 1,
   "metadata": {
    "ExecuteTime": {
     "end_time": "2024-09-24T08:11:59.423223Z",
     "start_time": "2024-09-24T08:11:56.480010Z"
    }
   },
   "outputs": [],
   "source": [
    "import bw2data as bd\n",
    "import bw2io as bi"
   ]
  },
  {
   "cell_type": "code",
   "execution_count": 2,
   "metadata": {
    "ExecuteTime": {
     "end_time": "2024-09-24T08:12:02.195746Z",
     "start_time": "2024-09-24T08:12:02.189880Z"
    }
   },
   "outputs": [
    {
     "name": "stdout",
     "output_type": "stream",
     "text": [
      "Check\n"
     ]
    }
   ],
   "source": [
    "PROJECT_NAME = \"bc24-hackathon-bike-project\"\n",
    "BIO_DB_NAME = \"ecoinvent-3.10-biosphere\"\n",
    "print(\"Check\")"
   ]
  },
  {
   "cell_type": "code",
   "execution_count": 3,
   "metadata": {
    "ExecuteTime": {
     "end_time": "2024-09-24T08:11:13.940622Z",
     "start_time": "2024-09-24T08:11:13.921333Z"
    }
   },
   "outputs": [],
   "source": [
    "# this is the current preferred way to install a biosphere database w/bw25\n",
    "# it will create biosphere named \"ecoinvent-3.10-biosphere\"\n",
    "# and add the associated LCIA methods\n",
    "\n",
    "if PROJECT_NAME in bd.projects:\n",
    "    pass\n",
    "else:\n",
    "    bi.remote.install_project(\n",
    "    \"ecoinvent-3.10-biosphere\", PROJECT_NAME, overwrite_existing=True\n",
    ")"
   ]
  },
  {
   "cell_type": "code",
   "execution_count": 4,
   "metadata": {
    "ExecuteTime": {
     "end_time": "2024-09-24T08:10:36.339125Z",
     "start_time": "2024-09-24T08:10:36.316256Z"
    }
   },
   "outputs": [],
   "source": [
    "bd.projects.set_current(PROJECT_NAME)"
   ]
  },
  {
   "cell_type": "code",
   "execution_count": 5,
   "metadata": {
    "ExecuteTime": {
     "end_time": "2024-09-24T08:11:06.096567Z",
     "start_time": "2024-09-24T08:11:06.084476Z"
    }
   },
   "outputs": [
    {
     "data": {
      "text/plain": [
       "Databases dictionary with 2 object(s):\n",
       "\tbike_production_example\n",
       "\tecoinvent-3.10-biosphere"
      ]
     },
     "execution_count": 5,
     "metadata": {},
     "output_type": "execute_result"
    }
   ],
   "source": [
    "bd.databases"
   ]
  },
  {
   "cell_type": "code",
   "execution_count": 5,
   "metadata": {
    "ExecuteTime": {
     "end_time": "2024-09-24T08:07:04.261066Z",
     "start_time": "2024-09-24T08:07:04.235621Z"
    }
   },
   "outputs": [
    {
     "name": "stdout",
     "output_type": "stream",
     "text": [
      "Extracted 1 worksheets in 1.22 seconds\n"
     ]
    }
   ],
   "source": [
    "xl_importer = bi.importers.ExcelImporter(\"bike_production_example.xlsx\")"
   ]
  },
  {
   "cell_type": "code",
   "execution_count": 7,
   "metadata": {},
   "outputs": [],
   "source": [
    "# If there are unlinked exchanges because of biosphere name change,\n",
    "# use the right biosphere name"
   ]
  },
  {
   "cell_type": "code",
   "execution_count": 6,
   "metadata": {},
   "outputs": [],
   "source": [
    "for data_item in xl_importer.data:\n",
    "    for exchange in data_item[\"exchanges\"]:\n",
    "        if exchange[\"type\"] == \"biosphere\" and exchange[\"database\"] == \"biosphere3\":\n",
    "            print(f\"Update bio db name for {exchange}\")\n",
    "            exchange[\"database\"] = BIO_DB_NAME"
   ]
  },
  {
   "cell_type": "code",
   "execution_count": 7,
   "metadata": {
    "ExecuteTime": {
     "end_time": "2024-09-24T08:04:52.688019Z",
     "start_time": "2024-09-24T08:04:52.684002Z"
    }
   },
   "outputs": [
    {
     "name": "stdout",
     "output_type": "stream",
     "text": [
      "Applying strategy: csv_restore_tuples\n",
      "Applying strategy: csv_restore_booleans\n",
      "Applying strategy: csv_numerize\n",
      "Applying strategy: csv_drop_unknown\n",
      "Applying strategy: csv_add_missing_exchanges_section\n",
      "Applying strategy: normalize_units\n",
      "Applying strategy: normalize_biosphere_categories\n",
      "Applying strategy: normalize_biosphere_names\n",
      "Applying strategy: strip_biosphere_exc_locations\n",
      "Applying strategy: set_code_by_activity_hash\n",
      "Applying strategy: link_iterable_by_fields\n",
      "Applying strategy: assign_only_product_as_production\n",
      "Applying strategy: link_technosphere_by_activity_hash\n",
      "Applying strategy: drop_falsey_uncertainty_fields_but_keep_zeros\n",
      "Applying strategy: convert_uncertainty_types_to_integers\n",
      "Applying strategy: convert_activity_parameters_to_list\n",
      "Applied 16 strategies in 14.35 seconds\n"
     ]
    }
   ],
   "source": [
    "xl_importer.apply_strategies()"
   ]
  },
  {
   "cell_type": "code",
   "execution_count": 8,
   "metadata": {
    "ExecuteTime": {
     "end_time": "2024-09-24T08:04:52.688019Z",
     "start_time": "2024-09-24T08:04:52.688019Z"
    }
   },
   "outputs": [
    {
     "name": "stdout",
     "output_type": "stream",
     "text": [
      "4718 datasets\n",
      "\t0 exchanges\n",
      "\t0 unlinked exchanges (0 unique)\n",
      "\t\n"
     ]
    },
    {
     "data": {
      "text/plain": [
       "(4718, 0, 0, 0)"
      ]
     },
     "execution_count": 8,
     "metadata": {},
     "output_type": "execute_result"
    }
   ],
   "source": [
    "xl_importer.statistics()"
   ]
  },
  {
   "cell_type": "code",
   "execution_count": 9,
   "metadata": {
    "ExecuteTime": {
     "end_time": "2024-09-24T08:04:52.688019Z",
     "start_time": "2024-09-24T08:04:52.688019Z"
    }
   },
   "outputs": [
    {
     "name": "stderr",
     "output_type": "stream",
     "text": [
      "100%|██████████| 4718/4718 [00:00<00:00, 8559.43it/s]\n"
     ]
    },
    {
     "name": "stdout",
     "output_type": "stream",
     "text": [
      "Vacuuming database \n",
      "Created database: biosphere3\n"
     ]
    }
   ],
   "source": [
    "if xl_importer.statistics(print_stats=False)[3] == 0:\n",
    "    xl_importer.write_database()"
   ]
  },
  {
   "cell_type": "code",
   "execution_count": 10,
   "metadata": {},
   "outputs": [
    {
     "data": {
      "text/plain": [
       "Databases dictionary with 3 object(s):\n",
       "\tbike_production_example\n",
       "\tbiosphere3\n",
       "\tecoinvent-3.10-biosphere"
      ]
     },
     "execution_count": 10,
     "metadata": {},
     "output_type": "execute_result"
    }
   ],
   "source": [
    "bd.databases"
   ]
  },
  {
   "cell_type": "code",
   "execution_count": 11,
   "metadata": {
    "ExecuteTime": {
     "end_time": "2024-09-24T08:05:59.864771Z",
     "start_time": "2024-09-24T08:05:59.853879Z"
    }
   },
   "outputs": [],
   "source": [
    "bike_db = bd.Database(\"bike_production_example\")"
   ]
  },
  {
   "cell_type": "code",
   "execution_count": 12,
   "metadata": {
    "ExecuteTime": {
     "end_time": "2024-09-24T08:06:03.185383Z",
     "start_time": "2024-09-24T08:06:03.177327Z"
    }
   },
   "outputs": [
    {
     "name": "stdout",
     "output_type": "stream",
     "text": [
      "'carbon fibre production' (kg, DE, None) -> cf\n",
      "'bike production' (bike, DK, None) -> bike\n",
      "'natural gas production' (MJ, NO, None) -> ng\n"
     ]
    }
   ],
   "source": [
    "for a in bike_db:\n",
    "    print(f\"{a} -> {a['code']}\")"
   ]
  },
  {
   "cell_type": "markdown",
   "metadata": {},
   "source": [
    "## Extract the data from the SDF file"
   ]
  },
  {
   "cell_type": "code",
   "execution_count": 13,
   "metadata": {},
   "outputs": [],
   "source": [
    "import sys\n",
    "sys.path.append(\"../\")\n",
    "from pathlib import Path\n",
    "\n",
    "from bw_scenarios.importer import SDFImporter\n",
    "\n",
    "file_path = Path(\"sdf.xlsx\")\n",
    "\n",
    "# store the scenario data in a variable\n",
    "scenarios = SDFImporter.from_excel(file_path)"
   ]
  },
  {
   "cell_type": "markdown",
   "metadata": {},
   "source": [
    "In the .sdf-file it is defined how the activities are changing within the distinct scenarios.\n",
    "\n",
    "The file used for this example is specified above.\n",
    "\n",
    "In the graphic below, the direction of change per scenario and exchange is visualized."
   ]
  },
  {
   "cell_type": "markdown",
   "metadata": {},
   "source": [
    "![scenarios_visualized.png](scenarios_visualized.png)"
   ]
  }
 ],
 "metadata": {
  "kernelspec": {
   "display_name": "bw2.5",
   "language": "python",
   "name": "python3"
  },
  "language_info": {
   "codemirror_mode": {
    "name": "ipython",
    "version": 3
   },
   "file_extension": ".py",
   "mimetype": "text/x-python",
   "name": "python",
   "nbconvert_exporter": "python",
   "pygments_lexer": "ipython3",
   "version": "3.11.9"
  }
 },
 "nbformat": 4,
 "nbformat_minor": 4
}
